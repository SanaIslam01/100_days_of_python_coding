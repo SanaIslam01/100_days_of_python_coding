{
 "cells": [
  {
   "cell_type": "markdown",
   "id": "ded8df46",
   "metadata": {},
   "source": [
    "# Pandas"
   ]
  },
  {
   "cell_type": "markdown",
   "id": "f81c4236",
   "metadata": {},
   "source": [
    "* Pandas is a python library that working with data sets and is used for Analyzing, Cleaning, Exploring and Manipulating data.\n",
    "* Read and Write with different formates like JSON, SVG, Zip etc.\n",
    "* Pandas allow us to analyze big data and make conclusions based on statistical theories\n",
    "* Pandas can clean messy data sets and make them readable and relevant\n",
    "* Easy handling of missing data(Represented as NaN) in floating point as well as Non-Floating point data\n",
    "* Size mutability: Columns can be inserted and deleted from dataFrames and higher dimensional objects\n",
    "* Data set merging and joining: Flexible Reshaping and pivoting data sets\n",
    " \n",
    "__Pandas 3 types k data Structures use krta hai__\n",
    "\n",
    "1) **Series** ---> One dimensional labbled arrays pd.Series(data) **Note!**(series ka S hm capital likhty hn)\n",
    "2) **DataFrames** ----> Two dimensional Data Structure with the columns, much like a table\n",
    "3) **Panel** ----> A Panel is a 3D Container of data\n"
   ]
  },
  {
   "cell_type": "markdown",
   "id": "87944809",
   "metadata": {},
   "source": [
    "# Series"
   ]
  },
  {
   "cell_type": "code",
   "execution_count": 1,
   "id": "79976ffe",
   "metadata": {},
   "outputs": [
    {
     "name": "stdout",
     "output_type": "stream",
     "text": [
      "a    3.0\n",
      "b    4.0\n",
      "c    5.0\n",
      "d    6.0\n",
      "e    7.0\n",
      "Name: python, dtype: float64\n",
      "<class 'pandas.core.series.Series'>\n",
      "5.0\n"
     ]
    }
   ],
   "source": [
    "import pandas as pd\n",
    "x=[3,4,5,6,7]\n",
    "var=pd.Series(x,index=['a','b','c','d','e'],dtype=\"float\",name=\"python\")\n",
    "print(var)\n",
    "print(type(var))\n",
    "print(var[2])"
   ]
  },
  {
   "cell_type": "code",
   "execution_count": 2,
   "id": "fff59945",
   "metadata": {},
   "outputs": [
    {
     "name": "stdout",
     "output_type": "stream",
     "text": [
      "name       [python, java, c++, c]\n",
      "popular          [12, 13, 14, 15]\n",
      "rank                 [1, 4, 3, 2]\n",
      "dtype: object\n"
     ]
    }
   ],
   "source": [
    "dic={\"name\":['python','java','c++','c'],\"popular\":[12,13,14,15],\"rank\":[1,4,3,2]}\n",
    "var1=pd.Series(dic)\n",
    "print(var1)"
   ]
  },
  {
   "cell_type": "code",
   "execution_count": 4,
   "id": "01868048",
   "metadata": {},
   "outputs": [
    {
     "name": "stdout",
     "output_type": "stream",
     "text": [
      "1    12\n",
      "2    12\n",
      "3    12\n",
      "4    12\n",
      "5    12\n",
      "6    12\n",
      "7    12\n",
      "dtype: int64\n",
      "<class 'pandas.core.series.Series'>\n"
     ]
    }
   ],
   "source": [
    "s=pd.Series(12,index=[1,2,3,4,5,6,7])\n",
    "print(s)\n",
    "print(type(s))"
   ]
  },
  {
   "cell_type": "code",
   "execution_count": 5,
   "id": "a2bb37f3",
   "metadata": {},
   "outputs": [
    {
     "name": "stdout",
     "output_type": "stream",
     "text": [
      "1    24.0\n",
      "2    24.0\n",
      "3    24.0\n",
      "4    24.0\n",
      "5     NaN\n",
      "6     NaN\n",
      "7     NaN\n",
      "dtype: float64\n"
     ]
    }
   ],
   "source": [
    "s1=pd.Series(12,index=[1,2,3,4,5,6,7])\n",
    "s2=pd.Series(12,index=[1,2,3,4])\n",
    "print(s1+s2)"
   ]
  },
  {
   "cell_type": "markdown",
   "id": "309af3f5",
   "metadata": {},
   "source": [
    "# DataFrame"
   ]
  },
  {
   "cell_type": "markdown",
   "id": "0f22f522",
   "metadata": {},
   "source": [
    "DtaFrame k liye hm list ya dictionary kisi ki b help ly skty hn. DataFrames pandas k andr hmary pas aik 2D dataStructure hota\n",
    "hai.jb hm dictionary ka use kren gy to hm ko keys ki value equal dyni hogi nii to error ajaye ga "
   ]
  },
  {
   "cell_type": "markdown",
   "id": "8b9313d3",
   "metadata": {},
   "source": [
    "### DataFrame using list"
   ]
  },
  {
   "cell_type": "code",
   "execution_count": 8,
   "id": "91b0d252",
   "metadata": {},
   "outputs": [
    {
     "name": "stdout",
     "output_type": "stream",
     "text": [
      "<class 'pandas.core.frame.DataFrame'>\n"
     ]
    }
   ],
   "source": [
    "import pandas as pd\n",
    "l=[1,2,3,4,5,6]\n",
    "\n",
    "var=pd.DataFrame(l)\n",
    "\n",
    "print(type(var))"
   ]
  },
  {
   "cell_type": "markdown",
   "id": "94724900",
   "metadata": {},
   "source": [
    "### DataFrame using Dictionary"
   ]
  },
  {
   "cell_type": "code",
   "execution_count": 11,
   "id": "f8bb87b5",
   "metadata": {},
   "outputs": [
    {
     "name": "stdout",
     "output_type": "stream",
     "text": [
      "<class 'pandas.core.frame.DataFrame'>\n"
     ]
    }
   ],
   "source": [
    "d={'a':[1,2,3,4],'s':[5,6,7,8],'b':[1,2,3,4],'c':[1,2,3,4]:1:[1,2,3,4]}   Note! (jb hm dictionary ka use kren gy to hm ko keys ki value equal dyni hogi nii to error ajaye ga)\n",
    "\n",
    "var=pd.DataFrame(d,column=['a',1],index=['a','b','c','d','e'])\n",
    "\n",
    "print(type(var))\n",
    "print(var)\n",
    "print(var['a'][2])"
   ]
  },
  {
   "cell_type": "markdown",
   "id": "4fa8ea17",
   "metadata": {},
   "source": [
    "### DataFrame using list within a list"
   ]
  },
  {
   "cell_type": "code",
   "execution_count": 13,
   "id": "5a7526d1",
   "metadata": {},
   "outputs": [
    {
     "name": "stdout",
     "output_type": "stream",
     "text": [
      "<class 'pandas.core.frame.DataFrame'>\n",
      "   0  1  2  3   4\n",
      "0  1  2  3  4   5\n",
      "1  6  7  8  9  10\n"
     ]
    }
   ],
   "source": [
    "list_1=[[1,2,3,4,5],[6,7,8,9,10]]\n",
    "\n",
    "var2=pd.DataFrame(list_1)\n",
    "\n",
    "print(type(var2))\n",
    "print(var2)\n"
   ]
  },
  {
   "cell_type": "markdown",
   "id": "1318cf25",
   "metadata": {},
   "source": [
    "### DataFrames using Series"
   ]
  },
  {
   "cell_type": "code",
   "execution_count": 14,
   "id": "18e3c1a1",
   "metadata": {},
   "outputs": [
    {
     "name": "stdout",
     "output_type": "stream",
     "text": [
      "<class 'pandas.core.frame.DataFrame'>\n",
      "   s  r\n",
      "0  1  1\n",
      "1  2  2\n",
      "2  3  3\n",
      "3  4  4\n"
     ]
    }
   ],
   "source": [
    "sr={'s':pd.Series([1,2,3,4]),'r':pd.Series([1,2,3,4])} Note! (yahan dictionary k undr series ka use kia gya hai)\n",
    "\n",
    "var3=pd.DataFrame(sr)\n",
    "\n",
    "print(type(var3))\n",
    "print(var3)"
   ]
  },
  {
   "cell_type": "markdown",
   "id": "e44dfe88",
   "metadata": {},
   "source": [
    "# Arithmetic Operations In Pandas"
   ]
  },
  {
   "cell_type": "code",
   "execution_count": 15,
   "id": "aa57f206",
   "metadata": {},
   "outputs": [
    {
     "data": {
      "text/html": [
       "<div>\n",
       "<style scoped>\n",
       "    .dataframe tbody tr th:only-of-type {\n",
       "        vertical-align: middle;\n",
       "    }\n",
       "\n",
       "    .dataframe tbody tr th {\n",
       "        vertical-align: top;\n",
       "    }\n",
       "\n",
       "    .dataframe thead th {\n",
       "        text-align: right;\n",
       "    }\n",
       "</style>\n",
       "<table border=\"1\" class=\"dataframe\">\n",
       "  <thead>\n",
       "    <tr style=\"text-align: right;\">\n",
       "      <th></th>\n",
       "      <th>A</th>\n",
       "      <th>B</th>\n",
       "    </tr>\n",
       "  </thead>\n",
       "  <tbody>\n",
       "    <tr>\n",
       "      <th>0</th>\n",
       "      <td>1</td>\n",
       "      <td>5</td>\n",
       "    </tr>\n",
       "    <tr>\n",
       "      <th>1</th>\n",
       "      <td>2</td>\n",
       "      <td>6</td>\n",
       "    </tr>\n",
       "    <tr>\n",
       "      <th>2</th>\n",
       "      <td>3</td>\n",
       "      <td>7</td>\n",
       "    </tr>\n",
       "    <tr>\n",
       "      <th>3</th>\n",
       "      <td>4</td>\n",
       "      <td>8</td>\n",
       "    </tr>\n",
       "  </tbody>\n",
       "</table>\n",
       "</div>"
      ],
      "text/plain": [
       "   A  B\n",
       "0  1  5\n",
       "1  2  6\n",
       "2  3  7\n",
       "3  4  8"
      ]
     },
     "execution_count": 15,
     "metadata": {},
     "output_type": "execute_result"
    }
   ],
   "source": [
    "var = pd.DataFrame({'A':[1,2,3,4],'B':[5,6,7,8]})\n",
    "\n",
    "var"
   ]
  },
  {
   "cell_type": "code",
   "execution_count": 16,
   "id": "43376cc3",
   "metadata": {},
   "outputs": [
    {
     "data": {
      "text/html": [
       "<div>\n",
       "<style scoped>\n",
       "    .dataframe tbody tr th:only-of-type {\n",
       "        vertical-align: middle;\n",
       "    }\n",
       "\n",
       "    .dataframe tbody tr th {\n",
       "        vertical-align: top;\n",
       "    }\n",
       "\n",
       "    .dataframe thead th {\n",
       "        text-align: right;\n",
       "    }\n",
       "</style>\n",
       "<table border=\"1\" class=\"dataframe\">\n",
       "  <thead>\n",
       "    <tr style=\"text-align: right;\">\n",
       "      <th></th>\n",
       "      <th>A</th>\n",
       "      <th>B</th>\n",
       "      <th>C</th>\n",
       "    </tr>\n",
       "  </thead>\n",
       "  <tbody>\n",
       "    <tr>\n",
       "      <th>0</th>\n",
       "      <td>1</td>\n",
       "      <td>5</td>\n",
       "      <td>6</td>\n",
       "    </tr>\n",
       "    <tr>\n",
       "      <th>1</th>\n",
       "      <td>2</td>\n",
       "      <td>6</td>\n",
       "      <td>8</td>\n",
       "    </tr>\n",
       "    <tr>\n",
       "      <th>2</th>\n",
       "      <td>3</td>\n",
       "      <td>7</td>\n",
       "      <td>10</td>\n",
       "    </tr>\n",
       "    <tr>\n",
       "      <th>3</th>\n",
       "      <td>4</td>\n",
       "      <td>8</td>\n",
       "      <td>12</td>\n",
       "    </tr>\n",
       "  </tbody>\n",
       "</table>\n",
       "</div>"
      ],
      "text/plain": [
       "   A  B   C\n",
       "0  1  5   6\n",
       "1  2  6   8\n",
       "2  3  7  10\n",
       "3  4  8  12"
      ]
     },
     "execution_count": 16,
     "metadata": {},
     "output_type": "execute_result"
    }
   ],
   "source": [
    "var['C']= var['A'] + var['B']\n",
    "var"
   ]
  },
  {
   "cell_type": "code",
   "execution_count": 17,
   "id": "87b931f5",
   "metadata": {},
   "outputs": [
    {
     "data": {
      "text/html": [
       "<div>\n",
       "<style scoped>\n",
       "    .dataframe tbody tr th:only-of-type {\n",
       "        vertical-align: middle;\n",
       "    }\n",
       "\n",
       "    .dataframe tbody tr th {\n",
       "        vertical-align: top;\n",
       "    }\n",
       "\n",
       "    .dataframe thead th {\n",
       "        text-align: right;\n",
       "    }\n",
       "</style>\n",
       "<table border=\"1\" class=\"dataframe\">\n",
       "  <thead>\n",
       "    <tr style=\"text-align: right;\">\n",
       "      <th></th>\n",
       "      <th>A</th>\n",
       "      <th>B</th>\n",
       "      <th>C</th>\n",
       "    </tr>\n",
       "  </thead>\n",
       "  <tbody>\n",
       "    <tr>\n",
       "      <th>0</th>\n",
       "      <td>1</td>\n",
       "      <td>5</td>\n",
       "      <td>-4</td>\n",
       "    </tr>\n",
       "    <tr>\n",
       "      <th>1</th>\n",
       "      <td>2</td>\n",
       "      <td>6</td>\n",
       "      <td>-4</td>\n",
       "    </tr>\n",
       "    <tr>\n",
       "      <th>2</th>\n",
       "      <td>3</td>\n",
       "      <td>7</td>\n",
       "      <td>-4</td>\n",
       "    </tr>\n",
       "    <tr>\n",
       "      <th>3</th>\n",
       "      <td>4</td>\n",
       "      <td>8</td>\n",
       "      <td>-4</td>\n",
       "    </tr>\n",
       "  </tbody>\n",
       "</table>\n",
       "</div>"
      ],
      "text/plain": [
       "   A  B  C\n",
       "0  1  5 -4\n",
       "1  2  6 -4\n",
       "2  3  7 -4\n",
       "3  4  8 -4"
      ]
     },
     "execution_count": 17,
     "metadata": {},
     "output_type": "execute_result"
    }
   ],
   "source": [
    "var['C']= var['A'] - var['B']\n",
    "var"
   ]
  },
  {
   "cell_type": "code",
   "execution_count": 18,
   "id": "21c945e5",
   "metadata": {},
   "outputs": [
    {
     "data": {
      "text/html": [
       "<div>\n",
       "<style scoped>\n",
       "    .dataframe tbody tr th:only-of-type {\n",
       "        vertical-align: middle;\n",
       "    }\n",
       "\n",
       "    .dataframe tbody tr th {\n",
       "        vertical-align: top;\n",
       "    }\n",
       "\n",
       "    .dataframe thead th {\n",
       "        text-align: right;\n",
       "    }\n",
       "</style>\n",
       "<table border=\"1\" class=\"dataframe\">\n",
       "  <thead>\n",
       "    <tr style=\"text-align: right;\">\n",
       "      <th></th>\n",
       "      <th>A</th>\n",
       "      <th>B</th>\n",
       "      <th>C</th>\n",
       "    </tr>\n",
       "  </thead>\n",
       "  <tbody>\n",
       "    <tr>\n",
       "      <th>0</th>\n",
       "      <td>1</td>\n",
       "      <td>5</td>\n",
       "      <td>5</td>\n",
       "    </tr>\n",
       "    <tr>\n",
       "      <th>1</th>\n",
       "      <td>2</td>\n",
       "      <td>6</td>\n",
       "      <td>12</td>\n",
       "    </tr>\n",
       "    <tr>\n",
       "      <th>2</th>\n",
       "      <td>3</td>\n",
       "      <td>7</td>\n",
       "      <td>21</td>\n",
       "    </tr>\n",
       "    <tr>\n",
       "      <th>3</th>\n",
       "      <td>4</td>\n",
       "      <td>8</td>\n",
       "      <td>32</td>\n",
       "    </tr>\n",
       "  </tbody>\n",
       "</table>\n",
       "</div>"
      ],
      "text/plain": [
       "   A  B   C\n",
       "0  1  5   5\n",
       "1  2  6  12\n",
       "2  3  7  21\n",
       "3  4  8  32"
      ]
     },
     "execution_count": 18,
     "metadata": {},
     "output_type": "execute_result"
    }
   ],
   "source": [
    "var['C']= var['A'] * var['B']\n",
    "var"
   ]
  },
  {
   "cell_type": "code",
   "execution_count": 19,
   "id": "9b45a678",
   "metadata": {},
   "outputs": [
    {
     "data": {
      "text/html": [
       "<div>\n",
       "<style scoped>\n",
       "    .dataframe tbody tr th:only-of-type {\n",
       "        vertical-align: middle;\n",
       "    }\n",
       "\n",
       "    .dataframe tbody tr th {\n",
       "        vertical-align: top;\n",
       "    }\n",
       "\n",
       "    .dataframe thead th {\n",
       "        text-align: right;\n",
       "    }\n",
       "</style>\n",
       "<table border=\"1\" class=\"dataframe\">\n",
       "  <thead>\n",
       "    <tr style=\"text-align: right;\">\n",
       "      <th></th>\n",
       "      <th>A</th>\n",
       "      <th>B</th>\n",
       "      <th>C</th>\n",
       "    </tr>\n",
       "  </thead>\n",
       "  <tbody>\n",
       "    <tr>\n",
       "      <th>0</th>\n",
       "      <td>1</td>\n",
       "      <td>5</td>\n",
       "      <td>0.200000</td>\n",
       "    </tr>\n",
       "    <tr>\n",
       "      <th>1</th>\n",
       "      <td>2</td>\n",
       "      <td>6</td>\n",
       "      <td>0.333333</td>\n",
       "    </tr>\n",
       "    <tr>\n",
       "      <th>2</th>\n",
       "      <td>3</td>\n",
       "      <td>7</td>\n",
       "      <td>0.428571</td>\n",
       "    </tr>\n",
       "    <tr>\n",
       "      <th>3</th>\n",
       "      <td>4</td>\n",
       "      <td>8</td>\n",
       "      <td>0.500000</td>\n",
       "    </tr>\n",
       "  </tbody>\n",
       "</table>\n",
       "</div>"
      ],
      "text/plain": [
       "   A  B         C\n",
       "0  1  5  0.200000\n",
       "1  2  6  0.333333\n",
       "2  3  7  0.428571\n",
       "3  4  8  0.500000"
      ]
     },
     "execution_count": 19,
     "metadata": {},
     "output_type": "execute_result"
    }
   ],
   "source": [
    "var['C']= var['A'] / var['B']\n",
    "var"
   ]
  },
  {
   "cell_type": "markdown",
   "id": "7e58f454",
   "metadata": {},
   "source": [
    "# Logical Operations in Pandas"
   ]
  },
  {
   "cell_type": "code",
   "execution_count": 20,
   "id": "406d6d5f",
   "metadata": {},
   "outputs": [
    {
     "data": {
      "text/html": [
       "<div>\n",
       "<style scoped>\n",
       "    .dataframe tbody tr th:only-of-type {\n",
       "        vertical-align: middle;\n",
       "    }\n",
       "\n",
       "    .dataframe tbody tr th {\n",
       "        vertical-align: top;\n",
       "    }\n",
       "\n",
       "    .dataframe thead th {\n",
       "        text-align: right;\n",
       "    }\n",
       "</style>\n",
       "<table border=\"1\" class=\"dataframe\">\n",
       "  <thead>\n",
       "    <tr style=\"text-align: right;\">\n",
       "      <th></th>\n",
       "      <th>A</th>\n",
       "      <th>B</th>\n",
       "    </tr>\n",
       "  </thead>\n",
       "  <tbody>\n",
       "    <tr>\n",
       "      <th>0</th>\n",
       "      <td>10</td>\n",
       "      <td>15</td>\n",
       "    </tr>\n",
       "    <tr>\n",
       "      <th>1</th>\n",
       "      <td>20</td>\n",
       "      <td>16</td>\n",
       "    </tr>\n",
       "    <tr>\n",
       "      <th>2</th>\n",
       "      <td>30</td>\n",
       "      <td>17</td>\n",
       "    </tr>\n",
       "    <tr>\n",
       "      <th>3</th>\n",
       "      <td>40</td>\n",
       "      <td>18</td>\n",
       "    </tr>\n",
       "  </tbody>\n",
       "</table>\n",
       "</div>"
      ],
      "text/plain": [
       "    A   B\n",
       "0  10  15\n",
       "1  20  16\n",
       "2  30  17\n",
       "3  40  18"
      ]
     },
     "execution_count": 20,
     "metadata": {},
     "output_type": "execute_result"
    }
   ],
   "source": [
    "var = pd.DataFrame({'A':[10,20,30,40],'B':[15,16,17,18]})\n",
    "\n",
    "var"
   ]
  },
  {
   "cell_type": "code",
   "execution_count": 22,
   "id": "d54f5664",
   "metadata": {},
   "outputs": [
    {
     "data": {
      "text/html": [
       "<div>\n",
       "<style scoped>\n",
       "    .dataframe tbody tr th:only-of-type {\n",
       "        vertical-align: middle;\n",
       "    }\n",
       "\n",
       "    .dataframe tbody tr th {\n",
       "        vertical-align: top;\n",
       "    }\n",
       "\n",
       "    .dataframe thead th {\n",
       "        text-align: right;\n",
       "    }\n",
       "</style>\n",
       "<table border=\"1\" class=\"dataframe\">\n",
       "  <thead>\n",
       "    <tr style=\"text-align: right;\">\n",
       "      <th></th>\n",
       "      <th>A</th>\n",
       "      <th>B</th>\n",
       "      <th>C</th>\n",
       "      <th>D</th>\n",
       "    </tr>\n",
       "  </thead>\n",
       "  <tbody>\n",
       "    <tr>\n",
       "      <th>0</th>\n",
       "      <td>10</td>\n",
       "      <td>15</td>\n",
       "      <td>True</td>\n",
       "      <td>True</td>\n",
       "    </tr>\n",
       "    <tr>\n",
       "      <th>1</th>\n",
       "      <td>20</td>\n",
       "      <td>16</td>\n",
       "      <td>True</td>\n",
       "      <td>True</td>\n",
       "    </tr>\n",
       "    <tr>\n",
       "      <th>2</th>\n",
       "      <td>30</td>\n",
       "      <td>17</td>\n",
       "      <td>False</td>\n",
       "      <td>False</td>\n",
       "    </tr>\n",
       "    <tr>\n",
       "      <th>3</th>\n",
       "      <td>40</td>\n",
       "      <td>18</td>\n",
       "      <td>False</td>\n",
       "      <td>False</td>\n",
       "    </tr>\n",
       "  </tbody>\n",
       "</table>\n",
       "</div>"
      ],
      "text/plain": [
       "    A   B      C      D\n",
       "0  10  15   True   True\n",
       "1  20  16   True   True\n",
       "2  30  17  False  False\n",
       "3  40  18  False  False"
      ]
     },
     "execution_count": 22,
     "metadata": {},
     "output_type": "execute_result"
    }
   ],
   "source": [
    "var['C']= var['A'] <= 20\n",
    "var['D']= var['B'] <= 16\n",
    "var"
   ]
  },
  {
   "cell_type": "markdown",
   "id": "652de558",
   "metadata": {},
   "source": [
    "# How to Delete and Insert Data in Pandas DataFrame"
   ]
  },
  {
   "cell_type": "markdown",
   "id": "b950029d",
   "metadata": {},
   "source": [
    "### Insert"
   ]
  },
  {
   "cell_type": "markdown",
   "id": "0f95686e",
   "metadata": {},
   "source": [
    "###### insert function mn hmary pas 3 parameters hoty hn\n",
    "\n",
    "1. Index number ------- yani kis index number pr hm value dalna chahty hn\n",
    "2. jo naya column insert ho raha hai vo kis position pr insert hoga r uska name kya hoga\n",
    "3. 3rd vo parameter hota hai k ap kya data insert krna chahty hn"
   ]
  },
  {
   "cell_type": "code",
   "execution_count": 24,
   "id": "11d93182",
   "metadata": {},
   "outputs": [
    {
     "data": {
      "text/html": [
       "<div>\n",
       "<style scoped>\n",
       "    .dataframe tbody tr th:only-of-type {\n",
       "        vertical-align: middle;\n",
       "    }\n",
       "\n",
       "    .dataframe tbody tr th {\n",
       "        vertical-align: top;\n",
       "    }\n",
       "\n",
       "    .dataframe thead th {\n",
       "        text-align: right;\n",
       "    }\n",
       "</style>\n",
       "<table border=\"1\" class=\"dataframe\">\n",
       "  <thead>\n",
       "    <tr style=\"text-align: right;\">\n",
       "      <th></th>\n",
       "      <th>A</th>\n",
       "      <th>B</th>\n",
       "    </tr>\n",
       "  </thead>\n",
       "  <tbody>\n",
       "    <tr>\n",
       "      <th>0</th>\n",
       "      <td>1</td>\n",
       "      <td>5</td>\n",
       "    </tr>\n",
       "    <tr>\n",
       "      <th>1</th>\n",
       "      <td>2</td>\n",
       "      <td>6</td>\n",
       "    </tr>\n",
       "    <tr>\n",
       "      <th>2</th>\n",
       "      <td>3</td>\n",
       "      <td>7</td>\n",
       "    </tr>\n",
       "    <tr>\n",
       "      <th>3</th>\n",
       "      <td>4</td>\n",
       "      <td>8</td>\n",
       "    </tr>\n",
       "  </tbody>\n",
       "</table>\n",
       "</div>"
      ],
      "text/plain": [
       "   A  B\n",
       "0  1  5\n",
       "1  2  6\n",
       "2  3  7\n",
       "3  4  8"
      ]
     },
     "execution_count": 24,
     "metadata": {},
     "output_type": "execute_result"
    }
   ],
   "source": [
    "var=pd.DataFrame({'A':[1,2,3,4],'B':[5,6,7,8]})\n",
    "\n",
    "var Note! (yahan mn akeela var ki jaga print(var) bhi likh skti hon)\n"
   ]
  },
  {
   "cell_type": "code",
   "execution_count": 25,
   "id": "8727094c",
   "metadata": {},
   "outputs": [
    {
     "data": {
      "text/html": [
       "<div>\n",
       "<style scoped>\n",
       "    .dataframe tbody tr th:only-of-type {\n",
       "        vertical-align: middle;\n",
       "    }\n",
       "\n",
       "    .dataframe tbody tr th {\n",
       "        vertical-align: top;\n",
       "    }\n",
       "\n",
       "    .dataframe thead th {\n",
       "        text-align: right;\n",
       "    }\n",
       "</style>\n",
       "<table border=\"1\" class=\"dataframe\">\n",
       "  <thead>\n",
       "    <tr style=\"text-align: right;\">\n",
       "      <th></th>\n",
       "      <th>A</th>\n",
       "      <th>python</th>\n",
       "      <th>B</th>\n",
       "    </tr>\n",
       "  </thead>\n",
       "  <tbody>\n",
       "    <tr>\n",
       "      <th>0</th>\n",
       "      <td>1</td>\n",
       "      <td>1</td>\n",
       "      <td>5</td>\n",
       "    </tr>\n",
       "    <tr>\n",
       "      <th>1</th>\n",
       "      <td>2</td>\n",
       "      <td>2</td>\n",
       "      <td>6</td>\n",
       "    </tr>\n",
       "    <tr>\n",
       "      <th>2</th>\n",
       "      <td>3</td>\n",
       "      <td>3</td>\n",
       "      <td>7</td>\n",
       "    </tr>\n",
       "    <tr>\n",
       "      <th>3</th>\n",
       "      <td>4</td>\n",
       "      <td>4</td>\n",
       "      <td>8</td>\n",
       "    </tr>\n",
       "  </tbody>\n",
       "</table>\n",
       "</div>"
      ],
      "text/plain": [
       "   A  python  B\n",
       "0  1       1  5\n",
       "1  2       2  6\n",
       "2  3       3  7\n",
       "3  4       4  8"
      ]
     },
     "execution_count": 25,
     "metadata": {},
     "output_type": "execute_result"
    }
   ],
   "source": [
    "var.insert(1,\"python\",var['A'])\n",
    "\n",
    "var"
   ]
  },
  {
   "cell_type": "code",
   "execution_count": 26,
   "id": "402ecf20",
   "metadata": {},
   "outputs": [
    {
     "ename": "SyntaxError",
     "evalue": "invalid syntax (3364261074.py, line 1)",
     "output_type": "error",
     "traceback": [
      "\u001b[1;36m  Cell \u001b[1;32mIn[26], line 1\u001b[1;36m\u001b[0m\n\u001b[1;33m    **Note! insert krty wqt jo new data hai vo pehly waly data ki tadad k braber hona chahiye ni to error aye ga**\u001b[0m\n\u001b[1;37m    ^\u001b[0m\n\u001b[1;31mSyntaxError\u001b[0m\u001b[1;31m:\u001b[0m invalid syntax\n"
     ]
    }
   ],
   "source": [
    "**Note! insert krty wqt jo new data hai vo pehly waly data ki tadad k braber hona chahiye ni to error aye ga**"
   ]
  },
  {
   "cell_type": "code",
   "execution_count": 29,
   "id": "3037e87e",
   "metadata": {},
   "outputs": [
    {
     "data": {
      "text/html": [
       "<div>\n",
       "<style scoped>\n",
       "    .dataframe tbody tr th:only-of-type {\n",
       "        vertical-align: middle;\n",
       "    }\n",
       "\n",
       "    .dataframe tbody tr th {\n",
       "        vertical-align: top;\n",
       "    }\n",
       "\n",
       "    .dataframe thead th {\n",
       "        text-align: right;\n",
       "    }\n",
       "</style>\n",
       "<table border=\"1\" class=\"dataframe\">\n",
       "  <thead>\n",
       "    <tr style=\"text-align: right;\">\n",
       "      <th></th>\n",
       "      <th>A</th>\n",
       "      <th>python_1</th>\n",
       "      <th>python</th>\n",
       "      <th>B</th>\n",
       "    </tr>\n",
       "  </thead>\n",
       "  <tbody>\n",
       "    <tr>\n",
       "      <th>0</th>\n",
       "      <td>1</td>\n",
       "      <td>22</td>\n",
       "      <td>1</td>\n",
       "      <td>5</td>\n",
       "    </tr>\n",
       "    <tr>\n",
       "      <th>1</th>\n",
       "      <td>2</td>\n",
       "      <td>33</td>\n",
       "      <td>2</td>\n",
       "      <td>6</td>\n",
       "    </tr>\n",
       "    <tr>\n",
       "      <th>2</th>\n",
       "      <td>3</td>\n",
       "      <td>44</td>\n",
       "      <td>3</td>\n",
       "      <td>7</td>\n",
       "    </tr>\n",
       "    <tr>\n",
       "      <th>3</th>\n",
       "      <td>4</td>\n",
       "      <td>55</td>\n",
       "      <td>4</td>\n",
       "      <td>8</td>\n",
       "    </tr>\n",
       "  </tbody>\n",
       "</table>\n",
       "</div>"
      ],
      "text/plain": [
       "   A  python_1  python  B\n",
       "0  1        22       1  5\n",
       "1  2        33       2  6\n",
       "2  3        44       3  7\n",
       "3  4        55       4  8"
      ]
     },
     "execution_count": 29,
     "metadata": {},
     "output_type": "execute_result"
    }
   ],
   "source": [
    "var.insert(1,\"python_1\",[22,33,44,55])\n",
    "\n",
    "var"
   ]
  },
  {
   "cell_type": "code",
   "execution_count": 30,
   "id": "a016b8aa",
   "metadata": {},
   "outputs": [
    {
     "data": {
      "text/html": [
       "<div>\n",
       "<style scoped>\n",
       "    .dataframe tbody tr th:only-of-type {\n",
       "        vertical-align: middle;\n",
       "    }\n",
       "\n",
       "    .dataframe tbody tr th {\n",
       "        vertical-align: top;\n",
       "    }\n",
       "\n",
       "    .dataframe thead th {\n",
       "        text-align: right;\n",
       "    }\n",
       "</style>\n",
       "<table border=\"1\" class=\"dataframe\">\n",
       "  <thead>\n",
       "    <tr style=\"text-align: right;\">\n",
       "      <th></th>\n",
       "      <th>A</th>\n",
       "      <th>B</th>\n",
       "      <th>python_2</th>\n",
       "    </tr>\n",
       "  </thead>\n",
       "  <tbody>\n",
       "    <tr>\n",
       "      <th>0</th>\n",
       "      <td>1</td>\n",
       "      <td>5</td>\n",
       "      <td>1.0</td>\n",
       "    </tr>\n",
       "    <tr>\n",
       "      <th>1</th>\n",
       "      <td>2</td>\n",
       "      <td>6</td>\n",
       "      <td>2.0</td>\n",
       "    </tr>\n",
       "    <tr>\n",
       "      <th>2</th>\n",
       "      <td>3</td>\n",
       "      <td>7</td>\n",
       "      <td>3.0</td>\n",
       "    </tr>\n",
       "    <tr>\n",
       "      <th>3</th>\n",
       "      <td>4</td>\n",
       "      <td>8</td>\n",
       "      <td>NaN</td>\n",
       "    </tr>\n",
       "  </tbody>\n",
       "</table>\n",
       "</div>"
      ],
      "text/plain": [
       "   A  B  python_2\n",
       "0  1  5       1.0\n",
       "1  2  6       2.0\n",
       "2  3  7       3.0\n",
       "3  4  8       NaN"
      ]
     },
     "execution_count": 30,
     "metadata": {},
     "output_type": "execute_result"
    }
   ],
   "source": [
    "var=pd.DataFrame({'A':[1,2,3,4],'B':[5,6,7,8]})\n",
    "\n",
    "var[\"python_2\"]= var['A'][:3] **Note!** (yahan slicing ka use kia gya hai r yahan 3 se muraz n-1 hoga yani ye 0-2 tk index lyga)\n",
    "\n",
    "var"
   ]
  },
  {
   "cell_type": "markdown",
   "id": "5e4d311f",
   "metadata": {},
   "source": [
    "### Delete"
   ]
  },
  {
   "cell_type": "markdown",
   "id": "2af73389",
   "metadata": {},
   "source": [
    "Delete krny k liye hm pop r del ka keyword use krskty hn"
   ]
  },
  {
   "cell_type": "code",
   "execution_count": 34,
   "id": "3a80f6a2",
   "metadata": {},
   "outputs": [
    {
     "data": {
      "text/plain": [
       "0    5\n",
       "1    6\n",
       "2    7\n",
       "3    8\n",
       "Name: B, dtype: int64"
      ]
     },
     "execution_count": 34,
     "metadata": {},
     "output_type": "execute_result"
    }
   ],
   "source": [
    "var=pd.DataFrame({'A':[1,2,3,4],'B':[5,6,7,8],'G':[33,44,55,66]})\n",
    "\n",
    "var3=var.pop('B')\n",
    "\n",
    "var3"
   ]
  },
  {
   "cell_type": "code",
   "execution_count": 35,
   "id": "f4f3b63c",
   "metadata": {},
   "outputs": [
    {
     "data": {
      "text/html": [
       "<div>\n",
       "<style scoped>\n",
       "    .dataframe tbody tr th:only-of-type {\n",
       "        vertical-align: middle;\n",
       "    }\n",
       "\n",
       "    .dataframe tbody tr th {\n",
       "        vertical-align: top;\n",
       "    }\n",
       "\n",
       "    .dataframe thead th {\n",
       "        text-align: right;\n",
       "    }\n",
       "</style>\n",
       "<table border=\"1\" class=\"dataframe\">\n",
       "  <thead>\n",
       "    <tr style=\"text-align: right;\">\n",
       "      <th></th>\n",
       "      <th>G</th>\n",
       "    </tr>\n",
       "  </thead>\n",
       "  <tbody>\n",
       "    <tr>\n",
       "      <th>0</th>\n",
       "      <td>33</td>\n",
       "    </tr>\n",
       "    <tr>\n",
       "      <th>1</th>\n",
       "      <td>44</td>\n",
       "    </tr>\n",
       "    <tr>\n",
       "      <th>2</th>\n",
       "      <td>55</td>\n",
       "    </tr>\n",
       "    <tr>\n",
       "      <th>3</th>\n",
       "      <td>66</td>\n",
       "    </tr>\n",
       "  </tbody>\n",
       "</table>\n",
       "</div>"
      ],
      "text/plain": [
       "    G\n",
       "0  33\n",
       "1  44\n",
       "2  55\n",
       "3  66"
      ]
     },
     "execution_count": 35,
     "metadata": {},
     "output_type": "execute_result"
    }
   ],
   "source": [
    "del var['A']\n",
    "\n",
    "var"
   ]
  },
  {
   "cell_type": "markdown",
   "id": "b5e46cd0",
   "metadata": {},
   "source": [
    "# How to Create Pandas CSV Files"
   ]
  },
  {
   "cell_type": "markdown",
   "id": "1c2bf7a4",
   "metadata": {},
   "source": [
    "* CSV file is a plained text formate in which values are seprated by commas(comma seprated values)\n",
    "\n",
    "* XLS file formate is an excel sheet binary file formate which hold information about all the worksheet in the file, including\n",
    "  both content and formatting.\n",
    "* CSV file k liye hmein aik variable ki zrort hoti h"
   ]
  },
  {
   "cell_type": "code",
   "execution_count": 1,
   "id": "b41b89f3",
   "metadata": {},
   "outputs": [],
   "source": [
    "import pandas as pd"
   ]
  },
  {
   "cell_type": "code",
   "execution_count": 7,
   "id": "73b929f8",
   "metadata": {},
   "outputs": [
    {
     "name": "stdout",
     "output_type": "stream",
     "text": [
      "   a  b  c\n",
      "0  1  1  1\n",
      "1  2  2  2\n",
      "2  3  3  3\n",
      "3  4  4  4\n",
      "4  5  5  5\n",
      "5  6  6  6\n"
     ]
    }
   ],
   "source": [
    "dis={'a':[1,2,3,4,5,6],'b':[1,2,3,4,5,6],'c':[1,2,3,4,5,6]}\n",
    "\n",
    "d=pd.DataFrame(dis)\n",
    "\n",
    "print(d)\n",
    "\n",
    "d.to_csv(\"test_new.csv\")"
   ]
  },
  {
   "cell_type": "code",
   "execution_count": 8,
   "id": "e6f3e00a",
   "metadata": {},
   "outputs": [
    {
     "name": "stdout",
     "output_type": "stream",
     "text": [
      "   a  b  c\n",
      "0  1  1  1\n",
      "1  2  2  2\n",
      "2  3  3  3\n",
      "3  4  4  4\n",
      "4  5  5  5\n",
      "5  6  6  6\n"
     ]
    }
   ],
   "source": [
    "dis={'a':[1,2,3,4,5,6],'b':[1,2,3,4,5,6],'c':[1,2,3,4,5,6]}\n",
    "\n",
    "d=pd.DataFrame(dis)\n",
    "\n",
    "print(d)\n",
    "\n",
    "d.to_csv(\"test_new1.csv\",index=False) Note! (index = False is used to remove index numbers)"
   ]
  },
  {
   "cell_type": "code",
   "execution_count": 11,
   "id": "8ee3163b",
   "metadata": {},
   "outputs": [
    {
     "name": "stdout",
     "output_type": "stream",
     "text": [
      "   a  b  c\n",
      "0  1  1  1\n",
      "1  2  2  2\n",
      "2  3  3  3\n",
      "3  4  4  4\n",
      "4  5  5  5\n",
      "5  6  6  6\n"
     ]
    }
   ],
   "source": [
    "dis={'a':[1,2,3,4,5,6],'b':[1,2,3,4,5,6],'c':[1,2,3,4,5,6]}\n",
    "\n",
    "d=pd.DataFrame(dis)\n",
    "\n",
    "print(d)\n",
    "\n",
    "d.to_csv(\"test_new2.csv\",index=False,header=['A','B','C'])"
   ]
  },
  {
   "cell_type": "markdown",
   "id": "5b9ebed1",
   "metadata": {},
   "source": [
    "# How to read CSV files in python pandas"
   ]
  },
  {
   "cell_type": "code",
   "execution_count": 3,
   "id": "2e99a15e",
   "metadata": {},
   "outputs": [],
   "source": [
    "import pandas as pd"
   ]
  },
  {
   "cell_type": "code",
   "execution_count": 5,
   "id": "6726cc27",
   "metadata": {},
   "outputs": [
    {
     "data": {
      "text/html": [
       "<div>\n",
       "<style scoped>\n",
       "    .dataframe tbody tr th:only-of-type {\n",
       "        vertical-align: middle;\n",
       "    }\n",
       "\n",
       "    .dataframe tbody tr th {\n",
       "        vertical-align: top;\n",
       "    }\n",
       "\n",
       "    .dataframe thead th {\n",
       "        text-align: right;\n",
       "    }\n",
       "</style>\n",
       "<table border=\"1\" class=\"dataframe\">\n",
       "  <thead>\n",
       "    <tr style=\"text-align: right;\">\n",
       "      <th></th>\n",
       "      <th>Unnamed: 0</th>\n",
       "      <th>a</th>\n",
       "      <th>b</th>\n",
       "      <th>c</th>\n",
       "    </tr>\n",
       "  </thead>\n",
       "  <tbody>\n",
       "    <tr>\n",
       "      <th>0</th>\n",
       "      <td>0</td>\n",
       "      <td>1</td>\n",
       "      <td>1</td>\n",
       "      <td>1</td>\n",
       "    </tr>\n",
       "    <tr>\n",
       "      <th>1</th>\n",
       "      <td>1</td>\n",
       "      <td>2</td>\n",
       "      <td>2</td>\n",
       "      <td>2</td>\n",
       "    </tr>\n",
       "    <tr>\n",
       "      <th>2</th>\n",
       "      <td>2</td>\n",
       "      <td>3</td>\n",
       "      <td>3</td>\n",
       "      <td>3</td>\n",
       "    </tr>\n",
       "    <tr>\n",
       "      <th>3</th>\n",
       "      <td>3</td>\n",
       "      <td>4</td>\n",
       "      <td>4</td>\n",
       "      <td>4</td>\n",
       "    </tr>\n",
       "    <tr>\n",
       "      <th>4</th>\n",
       "      <td>4</td>\n",
       "      <td>5</td>\n",
       "      <td>5</td>\n",
       "      <td>5</td>\n",
       "    </tr>\n",
       "    <tr>\n",
       "      <th>5</th>\n",
       "      <td>5</td>\n",
       "      <td>6</td>\n",
       "      <td>6</td>\n",
       "      <td>6</td>\n",
       "    </tr>\n",
       "  </tbody>\n",
       "</table>\n",
       "</div>"
      ],
      "text/plain": [
       "   Unnamed: 0  a  b  c\n",
       "0           0  1  1  1\n",
       "1           1  2  2  2\n",
       "2           2  3  3  3\n",
       "3           3  4  4  4\n",
       "4           4  5  5  5\n",
       "5           5  6  6  6"
      ]
     },
     "execution_count": 5,
     "metadata": {},
     "output_type": "execute_result"
    }
   ],
   "source": [
    "\n",
    "csv_1 = pd.read_csv(\"C:\\\\Users\\\\H-H Traders\\\\Desktop\\\\Python_Learning\\\\Pandas_CSV_files\\\\test_new.csv\")\n",
    "\n",
    "csv_1"
   ]
  },
  {
   "cell_type": "markdown",
   "id": "4c99f108",
   "metadata": {},
   "source": [
    "csv_1 = pd.read_csv(\"C:\\\\Users\\\\H-H Traders\\\\Desktop\\\\Python_Learning\\\\Pandas_CSV_files\\\\test_new.csv\",nrows=1)\n",
    "      <!--- nrows is used to fetch a specific row from the data --->\n",
    "csv_1\n",
    "print(type(csv_1)) "
   ]
  },
  {
   "cell_type": "markdown",
   "id": "06e16f69",
   "metadata": {},
   "source": [
    "csv_1 = pd.read_csv(\"C:\\\\Users\\\\H-H Traders\\\\Desktop\\\\Python_Learning\\\\Pandas_CSV_files\\\\test_new.csv\",usecols=['b','c'])\n",
    "      <!--- usecols is used to fetch a specific columns from the data in sequre brkts we can use cols name as well as index\n",
    "            numbers --->\n",
    "csv_1"
   ]
  },
  {
   "cell_type": "markdown",
   "id": "256d70c0",
   "metadata": {},
   "source": [
    "csv_1 = pd.read_csv(\"C:\\\\Users\\\\H-H Traders\\\\Desktop\\\\Python_Learning\\\\Pandas_CSV_files\\\\test_new.csv\",skiprows=[0])\n",
    "              <!--- skiprows=[0] is used to skip a row or multipule rows from the data --->\n",
    "csv_1"
   ]
  },
  {
   "cell_type": "markdown",
   "id": "a6aab0fc",
   "metadata": {},
   "source": [
    "csv_1 = pd.read_csv(\"C:\\\\Users\\\\H-H Traders\\\\Desktop\\\\Python_Learning\\\\Pandas_CSV_files\\\\test_new.csv\",index_col=['a'])\n",
    "\n",
    "     <!--- index_col=['a'] is used to make a specific columns as a index number --->\n",
    "\n",
    "csv_1"
   ]
  },
  {
   "cell_type": "markdown",
   "id": "593c55ec",
   "metadata": {},
   "source": [
    "csv_1 = pd.read_csv(\"C:\\\\Users\\\\H-H Traders\\\\Desktop\\\\Python_Learning\\\\Pandas_CSV_files\\\\test_new.csv\",header=2)\n",
    "\n",
    "     <!--- header=2 is used to make a specific row to a header --->\n",
    "\n",
    "csv_1"
   ]
  },
  {
   "cell_type": "markdown",
   "id": "62f22fb0",
   "metadata": {},
   "source": [
    "\n",
    "csv_1 = pd.read_csv(\"C:\\\\Users\\\\H-H Traders\\\\Desktop\\\\Python_Learning\\\\Pandas_CSV_files\\\\test_new.csv\",names=[\"col1\",\"col2\",\"col3\",\"col4\"])\n",
    "\n",
    "<!---names=[\"col1\",\"col2\",\"col3\",\"col4\"] is used to change the header name hmko hr name alg alg rkhna hai same name nii dyna--->\n",
    "csv_1"
   ]
  },
  {
   "cell_type": "markdown",
   "id": "c2f57852",
   "metadata": {},
   "source": [
    "\n",
    "csv_1 = pd.read_csv(\"C:\\\\Users\\\\H-H Traders\\\\Desktop\\\\Python_Learning\\\\Pandas_CSV_files\\\\test_new.csv\",header=None,prefix=\"col\")\n",
    "\n",
    "\n",
    "csv_1"
   ]
  },
  {
   "cell_type": "markdown",
   "id": "7dd0f122",
   "metadata": {},
   "source": [
    "csv_1 = pd.read_csv(\"C:\\\\Users\\\\H-H Traders\\\\Desktop\\\\Python_Learning\\\\Pandas_CSV_files\\\\test_new.csv\",dtype={'a':\"float\"})\n",
    "\n",
    "<!--- dtype={'a':\"float\"} is used to change the datatype of our value--->\n",
    "csv_1"
   ]
  },
  {
   "cell_type": "markdown",
   "id": "885f7efe",
   "metadata": {},
   "source": [
    "## Functions related to CSV files and we can also use these functions in DataFrames"
   ]
  },
  {
   "cell_type": "markdown",
   "id": "d3108f29",
   "metadata": {},
   "source": [
    "csv_1 = pd.read_csv(\"C:\\\\Users\\\\H-H Traders\\\\Desktop\\\\Python_Learning\\\\Pandas_CSV_files\\\\test_new.csv\")\n",
    "\n",
    "csv_1.index \n",
    "\n",
    "Note! (index function yahan hmko bta raha hai k index kahan se start ho raha hai kahan end ho raha hai r kitny k gap se araha h)"
   ]
  },
  {
   "cell_type": "code",
   "execution_count": 18,
   "id": "5f6f4830",
   "metadata": {},
   "outputs": [
    {
     "data": {
      "text/plain": [
       "Index(['Unnamed: 0', 'a', 'b', 'c'], dtype='object')"
      ]
     },
     "execution_count": 18,
     "metadata": {},
     "output_type": "execute_result"
    }
   ],
   "source": [
    "csv_1 = pd.read_csv(\"C:\\\\Users\\\\H-H Traders\\\\Desktop\\\\Python_Learning\\\\Pandas_CSV_files\\\\test_new.csv\")\n",
    "\n",
    "csv_1.columns\n",
    "\n",
    "Note! (columns function yahan hmko jitny b columns hn hmary data mn vo lakr dy raha hai)"
   ]
  },
  {
   "cell_type": "code",
   "execution_count": 20,
   "id": "57a9f015",
   "metadata": {},
   "outputs": [
    {
     "data": {
      "text/html": [
       "<div>\n",
       "<style scoped>\n",
       "    .dataframe tbody tr th:only-of-type {\n",
       "        vertical-align: middle;\n",
       "    }\n",
       "\n",
       "    .dataframe tbody tr th {\n",
       "        vertical-align: top;\n",
       "    }\n",
       "\n",
       "    .dataframe thead th {\n",
       "        text-align: right;\n",
       "    }\n",
       "</style>\n",
       "<table border=\"1\" class=\"dataframe\">\n",
       "  <thead>\n",
       "    <tr style=\"text-align: right;\">\n",
       "      <th></th>\n",
       "      <th>Unnamed: 0</th>\n",
       "      <th>a</th>\n",
       "      <th>b</th>\n",
       "      <th>c</th>\n",
       "    </tr>\n",
       "  </thead>\n",
       "  <tbody>\n",
       "    <tr>\n",
       "      <th>count</th>\n",
       "      <td>6.000000</td>\n",
       "      <td>6.000000</td>\n",
       "      <td>6.000000</td>\n",
       "      <td>6.000000</td>\n",
       "    </tr>\n",
       "    <tr>\n",
       "      <th>mean</th>\n",
       "      <td>2.500000</td>\n",
       "      <td>3.500000</td>\n",
       "      <td>3.500000</td>\n",
       "      <td>3.500000</td>\n",
       "    </tr>\n",
       "    <tr>\n",
       "      <th>std</th>\n",
       "      <td>1.870829</td>\n",
       "      <td>1.870829</td>\n",
       "      <td>1.870829</td>\n",
       "      <td>1.870829</td>\n",
       "    </tr>\n",
       "    <tr>\n",
       "      <th>min</th>\n",
       "      <td>0.000000</td>\n",
       "      <td>1.000000</td>\n",
       "      <td>1.000000</td>\n",
       "      <td>1.000000</td>\n",
       "    </tr>\n",
       "    <tr>\n",
       "      <th>25%</th>\n",
       "      <td>1.250000</td>\n",
       "      <td>2.250000</td>\n",
       "      <td>2.250000</td>\n",
       "      <td>2.250000</td>\n",
       "    </tr>\n",
       "    <tr>\n",
       "      <th>50%</th>\n",
       "      <td>2.500000</td>\n",
       "      <td>3.500000</td>\n",
       "      <td>3.500000</td>\n",
       "      <td>3.500000</td>\n",
       "    </tr>\n",
       "    <tr>\n",
       "      <th>75%</th>\n",
       "      <td>3.750000</td>\n",
       "      <td>4.750000</td>\n",
       "      <td>4.750000</td>\n",
       "      <td>4.750000</td>\n",
       "    </tr>\n",
       "    <tr>\n",
       "      <th>max</th>\n",
       "      <td>5.000000</td>\n",
       "      <td>6.000000</td>\n",
       "      <td>6.000000</td>\n",
       "      <td>6.000000</td>\n",
       "    </tr>\n",
       "  </tbody>\n",
       "</table>\n",
       "</div>"
      ],
      "text/plain": [
       "       Unnamed: 0         a         b         c\n",
       "count    6.000000  6.000000  6.000000  6.000000\n",
       "mean     2.500000  3.500000  3.500000  3.500000\n",
       "std      1.870829  1.870829  1.870829  1.870829\n",
       "min      0.000000  1.000000  1.000000  1.000000\n",
       "25%      1.250000  2.250000  2.250000  2.250000\n",
       "50%      2.500000  3.500000  3.500000  3.500000\n",
       "75%      3.750000  4.750000  4.750000  4.750000\n",
       "max      5.000000  6.000000  6.000000  6.000000"
      ]
     },
     "execution_count": 20,
     "metadata": {},
     "output_type": "execute_result"
    }
   ],
   "source": [
    "csv_1 = pd.read_csv(\"C:\\\\Users\\\\H-H Traders\\\\Desktop\\\\Python_Learning\\\\Pandas_CSV_files\\\\test_new.csv\")\n",
    "\n",
    "csv_1.describe()\n",
    "\n",
    "Note! (describe ka function hmko mean std min max 25% 75% etc value nikal kr dyta h hmaey data ki)"
   ]
  },
  {
   "cell_type": "code",
   "execution_count": 21,
   "id": "5f5732f0",
   "metadata": {},
   "outputs": [
    {
     "data": {
      "text/html": [
       "<div>\n",
       "<style scoped>\n",
       "    .dataframe tbody tr th:only-of-type {\n",
       "        vertical-align: middle;\n",
       "    }\n",
       "\n",
       "    .dataframe tbody tr th {\n",
       "        vertical-align: top;\n",
       "    }\n",
       "\n",
       "    .dataframe thead th {\n",
       "        text-align: right;\n",
       "    }\n",
       "</style>\n",
       "<table border=\"1\" class=\"dataframe\">\n",
       "  <thead>\n",
       "    <tr style=\"text-align: right;\">\n",
       "      <th></th>\n",
       "      <th>Unnamed: 0</th>\n",
       "      <th>a</th>\n",
       "      <th>b</th>\n",
       "      <th>c</th>\n",
       "    </tr>\n",
       "  </thead>\n",
       "  <tbody>\n",
       "    <tr>\n",
       "      <th>0</th>\n",
       "      <td>0</td>\n",
       "      <td>1</td>\n",
       "      <td>1</td>\n",
       "      <td>1</td>\n",
       "    </tr>\n",
       "    <tr>\n",
       "      <th>1</th>\n",
       "      <td>1</td>\n",
       "      <td>2</td>\n",
       "      <td>2</td>\n",
       "      <td>2</td>\n",
       "    </tr>\n",
       "    <tr>\n",
       "      <th>2</th>\n",
       "      <td>2</td>\n",
       "      <td>3</td>\n",
       "      <td>3</td>\n",
       "      <td>3</td>\n",
       "    </tr>\n",
       "    <tr>\n",
       "      <th>3</th>\n",
       "      <td>3</td>\n",
       "      <td>4</td>\n",
       "      <td>4</td>\n",
       "      <td>4</td>\n",
       "    </tr>\n",
       "    <tr>\n",
       "      <th>4</th>\n",
       "      <td>4</td>\n",
       "      <td>5</td>\n",
       "      <td>5</td>\n",
       "      <td>5</td>\n",
       "    </tr>\n",
       "  </tbody>\n",
       "</table>\n",
       "</div>"
      ],
      "text/plain": [
       "   Unnamed: 0  a  b  c\n",
       "0           0  1  1  1\n",
       "1           1  2  2  2\n",
       "2           2  3  3  3\n",
       "3           3  4  4  4\n",
       "4           4  5  5  5"
      ]
     },
     "execution_count": 21,
     "metadata": {},
     "output_type": "execute_result"
    }
   ],
   "source": [
    "csv_1 = pd.read_csv(\"C:\\\\Users\\\\H-H Traders\\\\Desktop\\\\Python_Learning\\\\Pandas_CSV_files\\\\test_new.csv\")\n",
    "\n",
    "csv_1.head()\n",
    "\n",
    "!Note (head ka function yaha hmary data ki pehli 5 value lakr dyta hai ya hm kehskty hn k pehli 5 rows lakr dyta hai)"
   ]
  },
  {
   "cell_type": "code",
   "execution_count": 22,
   "id": "cc39f299",
   "metadata": {},
   "outputs": [
    {
     "data": {
      "text/html": [
       "<div>\n",
       "<style scoped>\n",
       "    .dataframe tbody tr th:only-of-type {\n",
       "        vertical-align: middle;\n",
       "    }\n",
       "\n",
       "    .dataframe tbody tr th {\n",
       "        vertical-align: top;\n",
       "    }\n",
       "\n",
       "    .dataframe thead th {\n",
       "        text-align: right;\n",
       "    }\n",
       "</style>\n",
       "<table border=\"1\" class=\"dataframe\">\n",
       "  <thead>\n",
       "    <tr style=\"text-align: right;\">\n",
       "      <th></th>\n",
       "      <th>Unnamed: 0</th>\n",
       "      <th>a</th>\n",
       "      <th>b</th>\n",
       "      <th>c</th>\n",
       "    </tr>\n",
       "  </thead>\n",
       "  <tbody>\n",
       "    <tr>\n",
       "      <th>0</th>\n",
       "      <td>0</td>\n",
       "      <td>1</td>\n",
       "      <td>1</td>\n",
       "      <td>1</td>\n",
       "    </tr>\n",
       "    <tr>\n",
       "      <th>1</th>\n",
       "      <td>1</td>\n",
       "      <td>2</td>\n",
       "      <td>2</td>\n",
       "      <td>2</td>\n",
       "    </tr>\n",
       "  </tbody>\n",
       "</table>\n",
       "</div>"
      ],
      "text/plain": [
       "   Unnamed: 0  a  b  c\n",
       "0           0  1  1  1\n",
       "1           1  2  2  2"
      ]
     },
     "execution_count": 22,
     "metadata": {},
     "output_type": "execute_result"
    }
   ],
   "source": [
    "csv_1 = pd.read_csv(\"C:\\\\Users\\\\H-H Traders\\\\Desktop\\\\Python_Learning\\\\Pandas_CSV_files\\\\test_new.csv\")\n",
    "\n",
    "csv_1.head(2)\n",
    "\n",
    "!Note (head ka function yaha hmary data ki pehli 5 value lakr dyta hai ya hm kehskty hn k pehli 5 rows lakr dyta hai lykin jb hm\n",
    "      head mn koi numbr ya value pas kr dyty hn to vo us hisab se value show krwata hai like yahan head mn hmny 2 dia to ye \n",
    "      pehli 2 rows ka data lakr dyga )"
   ]
  },
  {
   "cell_type": "code",
   "execution_count": 23,
   "id": "a90b604b",
   "metadata": {},
   "outputs": [
    {
     "data": {
      "text/html": [
       "<div>\n",
       "<style scoped>\n",
       "    .dataframe tbody tr th:only-of-type {\n",
       "        vertical-align: middle;\n",
       "    }\n",
       "\n",
       "    .dataframe tbody tr th {\n",
       "        vertical-align: top;\n",
       "    }\n",
       "\n",
       "    .dataframe thead th {\n",
       "        text-align: right;\n",
       "    }\n",
       "</style>\n",
       "<table border=\"1\" class=\"dataframe\">\n",
       "  <thead>\n",
       "    <tr style=\"text-align: right;\">\n",
       "      <th></th>\n",
       "      <th>Unnamed: 0</th>\n",
       "      <th>a</th>\n",
       "      <th>b</th>\n",
       "      <th>c</th>\n",
       "    </tr>\n",
       "  </thead>\n",
       "  <tbody>\n",
       "    <tr>\n",
       "      <th>1</th>\n",
       "      <td>1</td>\n",
       "      <td>2</td>\n",
       "      <td>2</td>\n",
       "      <td>2</td>\n",
       "    </tr>\n",
       "    <tr>\n",
       "      <th>2</th>\n",
       "      <td>2</td>\n",
       "      <td>3</td>\n",
       "      <td>3</td>\n",
       "      <td>3</td>\n",
       "    </tr>\n",
       "    <tr>\n",
       "      <th>3</th>\n",
       "      <td>3</td>\n",
       "      <td>4</td>\n",
       "      <td>4</td>\n",
       "      <td>4</td>\n",
       "    </tr>\n",
       "    <tr>\n",
       "      <th>4</th>\n",
       "      <td>4</td>\n",
       "      <td>5</td>\n",
       "      <td>5</td>\n",
       "      <td>5</td>\n",
       "    </tr>\n",
       "    <tr>\n",
       "      <th>5</th>\n",
       "      <td>5</td>\n",
       "      <td>6</td>\n",
       "      <td>6</td>\n",
       "      <td>6</td>\n",
       "    </tr>\n",
       "  </tbody>\n",
       "</table>\n",
       "</div>"
      ],
      "text/plain": [
       "   Unnamed: 0  a  b  c\n",
       "1           1  2  2  2\n",
       "2           2  3  3  3\n",
       "3           3  4  4  4\n",
       "4           4  5  5  5\n",
       "5           5  6  6  6"
      ]
     },
     "execution_count": 23,
     "metadata": {},
     "output_type": "execute_result"
    }
   ],
   "source": [
    "csv_1 = pd.read_csv(\"C:\\\\Users\\\\H-H Traders\\\\Desktop\\\\Python_Learning\\\\Pandas_CSV_files\\\\test_new.csv\")\n",
    "\n",
    "csv_1.tail()\n",
    "\n",
    "!Note (tail ka function yaha hmary data ki akhri 5 value lakr dyta hai ya hm kehskty hn k last 5 rows lakr dyta hai)"
   ]
  },
  {
   "cell_type": "code",
   "execution_count": 24,
   "id": "6fb352f9",
   "metadata": {},
   "outputs": [
    {
     "data": {
      "text/html": [
       "<div>\n",
       "<style scoped>\n",
       "    .dataframe tbody tr th:only-of-type {\n",
       "        vertical-align: middle;\n",
       "    }\n",
       "\n",
       "    .dataframe tbody tr th {\n",
       "        vertical-align: top;\n",
       "    }\n",
       "\n",
       "    .dataframe thead th {\n",
       "        text-align: right;\n",
       "    }\n",
       "</style>\n",
       "<table border=\"1\" class=\"dataframe\">\n",
       "  <thead>\n",
       "    <tr style=\"text-align: right;\">\n",
       "      <th></th>\n",
       "      <th>Unnamed: 0</th>\n",
       "      <th>a</th>\n",
       "      <th>b</th>\n",
       "      <th>c</th>\n",
       "    </tr>\n",
       "  </thead>\n",
       "  <tbody>\n",
       "    <tr>\n",
       "      <th>4</th>\n",
       "      <td>4</td>\n",
       "      <td>5</td>\n",
       "      <td>5</td>\n",
       "      <td>5</td>\n",
       "    </tr>\n",
       "    <tr>\n",
       "      <th>5</th>\n",
       "      <td>5</td>\n",
       "      <td>6</td>\n",
       "      <td>6</td>\n",
       "      <td>6</td>\n",
       "    </tr>\n",
       "  </tbody>\n",
       "</table>\n",
       "</div>"
      ],
      "text/plain": [
       "   Unnamed: 0  a  b  c\n",
       "4           4  5  5  5\n",
       "5           5  6  6  6"
      ]
     },
     "execution_count": 24,
     "metadata": {},
     "output_type": "execute_result"
    }
   ],
   "source": [
    "csv_1 = pd.read_csv(\"C:\\\\Users\\\\H-H Traders\\\\Desktop\\\\Python_Learning\\\\Pandas_CSV_files\\\\test_new.csv\")\n",
    "\n",
    "csv_1.tail(2)\n",
    "\n",
    "!Note (tail ka function yaha hmary data ki akhri 5 value lakr dyta hai ya hm kehskty hn k last 5 rows lakr dyta hai lykin jb hm\n",
    "      head mn koi numbr ya value pas kr dyty hn to vo us hisab se value show krwata hai like yahan tail mn hmny 2 dia to ye \n",
    "      last ki 2 rows ka data lakr dyga )"
   ]
  },
  {
   "cell_type": "code",
   "execution_count": 26,
   "id": "a94b5a19",
   "metadata": {},
   "outputs": [
    {
     "data": {
      "text/html": [
       "<div>\n",
       "<style scoped>\n",
       "    .dataframe tbody tr th:only-of-type {\n",
       "        vertical-align: middle;\n",
       "    }\n",
       "\n",
       "    .dataframe tbody tr th {\n",
       "        vertical-align: top;\n",
       "    }\n",
       "\n",
       "    .dataframe thead th {\n",
       "        text-align: right;\n",
       "    }\n",
       "</style>\n",
       "<table border=\"1\" class=\"dataframe\">\n",
       "  <thead>\n",
       "    <tr style=\"text-align: right;\">\n",
       "      <th></th>\n",
       "      <th>Unnamed: 0</th>\n",
       "      <th>a</th>\n",
       "      <th>b</th>\n",
       "      <th>c</th>\n",
       "    </tr>\n",
       "  </thead>\n",
       "  <tbody>\n",
       "    <tr>\n",
       "      <th>0</th>\n",
       "      <td>0</td>\n",
       "      <td>1</td>\n",
       "      <td>1</td>\n",
       "      <td>1</td>\n",
       "    </tr>\n",
       "    <tr>\n",
       "      <th>1</th>\n",
       "      <td>1</td>\n",
       "      <td>2</td>\n",
       "      <td>2</td>\n",
       "      <td>2</td>\n",
       "    </tr>\n",
       "  </tbody>\n",
       "</table>\n",
       "</div>"
      ],
      "text/plain": [
       "   Unnamed: 0  a  b  c\n",
       "0           0  1  1  1\n",
       "1           1  2  2  2"
      ]
     },
     "execution_count": 26,
     "metadata": {},
     "output_type": "execute_result"
    }
   ],
   "source": [
    "csv_1 = pd.read_csv(\"C:\\\\Users\\\\H-H Traders\\\\Desktop\\\\Python_Learning\\\\Pandas_CSV_files\\\\test_new.csv\")\n",
    "\n",
    "csv_1[:2]\n",
    "\n",
    "!Note (yaha ye jo csv_1[:2] ka use kia gya hai ye aik string slicing ki trhan use kia gya hai r usi trhan work kry ga ... yani\n",
    "      iska mtlb hai k hmko kahan se kahan tk ka data chahiye)"
   ]
  },
  {
   "cell_type": "code",
   "execution_count": 27,
   "id": "ab413dbf",
   "metadata": {},
   "outputs": [
    {
     "data": {
      "text/html": [
       "<div>\n",
       "<style scoped>\n",
       "    .dataframe tbody tr th:only-of-type {\n",
       "        vertical-align: middle;\n",
       "    }\n",
       "\n",
       "    .dataframe tbody tr th {\n",
       "        vertical-align: top;\n",
       "    }\n",
       "\n",
       "    .dataframe thead th {\n",
       "        text-align: right;\n",
       "    }\n",
       "</style>\n",
       "<table border=\"1\" class=\"dataframe\">\n",
       "  <thead>\n",
       "    <tr style=\"text-align: right;\">\n",
       "      <th></th>\n",
       "      <th>Unnamed: 0</th>\n",
       "      <th>a</th>\n",
       "      <th>b</th>\n",
       "      <th>c</th>\n",
       "    </tr>\n",
       "  </thead>\n",
       "  <tbody>\n",
       "    <tr>\n",
       "      <th>0</th>\n",
       "      <td>0</td>\n",
       "      <td>1</td>\n",
       "      <td>1</td>\n",
       "      <td>1</td>\n",
       "    </tr>\n",
       "    <tr>\n",
       "      <th>1</th>\n",
       "      <td>1</td>\n",
       "      <td>2</td>\n",
       "      <td>2</td>\n",
       "      <td>2</td>\n",
       "    </tr>\n",
       "    <tr>\n",
       "      <th>2</th>\n",
       "      <td>2</td>\n",
       "      <td>3</td>\n",
       "      <td>3</td>\n",
       "      <td>3</td>\n",
       "    </tr>\n",
       "  </tbody>\n",
       "</table>\n",
       "</div>"
      ],
      "text/plain": [
       "   Unnamed: 0  a  b  c\n",
       "0           0  1  1  1\n",
       "1           1  2  2  2\n",
       "2           2  3  3  3"
      ]
     },
     "execution_count": 27,
     "metadata": {},
     "output_type": "execute_result"
    }
   ],
   "source": [
    "csv_1 = pd.read_csv(\"C:\\\\Users\\\\H-H Traders\\\\Desktop\\\\Python_Learning\\\\Pandas_CSV_files\\\\test_new.csv\")\n",
    "\n",
    "csv_1[0:3]\n",
    "\n",
    "!Note (yaha ye jo csv_1[0:3] ka use kia gya hai ye aik string slicing ki trhan use kia gya hai r usi trhan work kry ga ... yani\n",
    "      iska mtlb hai k hmko kahan se kahan tk ka data chahiye)"
   ]
  },
  {
   "cell_type": "code",
   "execution_count": 32,
   "id": "50f126fe",
   "metadata": {},
   "outputs": [
    {
     "name": "stdout",
     "output_type": "stream",
     "text": [
      "<class 'pandas.core.frame.DataFrame'>\n"
     ]
    }
   ],
   "source": [
    "print(type(csv_1))"
   ]
  },
  {
   "cell_type": "code",
   "execution_count": 33,
   "id": "cdf44e33",
   "metadata": {},
   "outputs": [
    {
     "data": {
      "text/plain": [
       "<PandasArray>\n",
       "[0, 1, 2, 3, 4, 5]\n",
       "Length: 6, dtype: int64"
      ]
     },
     "execution_count": 33,
     "metadata": {},
     "output_type": "execute_result"
    }
   ],
   "source": [
    "csv_1.index.array\n",
    "!Note (.index.array is used to show our CSV file index in the for of array)"
   ]
  },
  {
   "cell_type": "code",
   "execution_count": 34,
   "id": "d0ceece0",
   "metadata": {},
   "outputs": [
    {
     "data": {
      "text/plain": [
       "array([[0, 1, 1, 1],\n",
       "       [1, 2, 2, 2],\n",
       "       [2, 3, 3, 3],\n",
       "       [3, 4, 4, 4],\n",
       "       [4, 5, 5, 5],\n",
       "       [5, 6, 6, 6]], dtype=int64)"
      ]
     },
     "execution_count": 34,
     "metadata": {},
     "output_type": "execute_result"
    }
   ],
   "source": [
    "csv_1.to_numpy()\n",
    "\n",
    "!Note (.to_numpy() function is used to show our CSV file data in the for of numpy array)"
   ]
  },
  {
   "cell_type": "code",
   "execution_count": 35,
   "id": "5277cb72",
   "metadata": {},
   "outputs": [
    {
     "data": {
      "text/plain": [
       "array([[0, 1, 1, 1],\n",
       "       [1, 2, 2, 2],\n",
       "       [2, 3, 3, 3],\n",
       "       [3, 4, 4, 4],\n",
       "       [4, 5, 5, 5],\n",
       "       [5, 6, 6, 6]], dtype=int64)"
      ]
     },
     "execution_count": 35,
     "metadata": {},
     "output_type": "execute_result"
    }
   ],
   "source": [
    "import numpy as np\n",
    "\n",
    "r=np.asarray(csv_1)\n",
    "\n",
    "r\n",
    "\n",
    "!Note (this method is also used to convert our data in the form of numpy array)"
   ]
  },
  {
   "cell_type": "code",
   "execution_count": 36,
   "id": "e096c953",
   "metadata": {},
   "outputs": [
    {
     "data": {
      "text/html": [
       "<div>\n",
       "<style scoped>\n",
       "    .dataframe tbody tr th:only-of-type {\n",
       "        vertical-align: middle;\n",
       "    }\n",
       "\n",
       "    .dataframe tbody tr th {\n",
       "        vertical-align: top;\n",
       "    }\n",
       "\n",
       "    .dataframe thead th {\n",
       "        text-align: right;\n",
       "    }\n",
       "</style>\n",
       "<table border=\"1\" class=\"dataframe\">\n",
       "  <thead>\n",
       "    <tr style=\"text-align: right;\">\n",
       "      <th></th>\n",
       "      <th>Unnamed: 0</th>\n",
       "      <th>a</th>\n",
       "      <th>b</th>\n",
       "      <th>c</th>\n",
       "    </tr>\n",
       "  </thead>\n",
       "  <tbody>\n",
       "    <tr>\n",
       "      <th>5</th>\n",
       "      <td>5</td>\n",
       "      <td>6</td>\n",
       "      <td>6</td>\n",
       "      <td>6</td>\n",
       "    </tr>\n",
       "    <tr>\n",
       "      <th>4</th>\n",
       "      <td>4</td>\n",
       "      <td>5</td>\n",
       "      <td>5</td>\n",
       "      <td>5</td>\n",
       "    </tr>\n",
       "    <tr>\n",
       "      <th>3</th>\n",
       "      <td>3</td>\n",
       "      <td>4</td>\n",
       "      <td>4</td>\n",
       "      <td>4</td>\n",
       "    </tr>\n",
       "    <tr>\n",
       "      <th>2</th>\n",
       "      <td>2</td>\n",
       "      <td>3</td>\n",
       "      <td>3</td>\n",
       "      <td>3</td>\n",
       "    </tr>\n",
       "    <tr>\n",
       "      <th>1</th>\n",
       "      <td>1</td>\n",
       "      <td>2</td>\n",
       "      <td>2</td>\n",
       "      <td>2</td>\n",
       "    </tr>\n",
       "    <tr>\n",
       "      <th>0</th>\n",
       "      <td>0</td>\n",
       "      <td>1</td>\n",
       "      <td>1</td>\n",
       "      <td>1</td>\n",
       "    </tr>\n",
       "  </tbody>\n",
       "</table>\n",
       "</div>"
      ],
      "text/plain": [
       "   Unnamed: 0  a  b  c\n",
       "5           5  6  6  6\n",
       "4           4  5  5  5\n",
       "3           3  4  4  4\n",
       "2           2  3  3  3\n",
       "1           1  2  2  2\n",
       "0           0  1  1  1"
      ]
     },
     "execution_count": 36,
     "metadata": {},
     "output_type": "execute_result"
    }
   ],
   "source": [
    "csv_1.sort_index(axis=0,ascending=False)\n",
    "\n",
    "!Note (this method is also used to sort our data in the form of decending order)"
   ]
  },
  {
   "cell_type": "code",
   "execution_count": 38,
   "id": "a5ca7282",
   "metadata": {},
   "outputs": [
    {
     "data": {
      "text/html": [
       "<div>\n",
       "<style scoped>\n",
       "    .dataframe tbody tr th:only-of-type {\n",
       "        vertical-align: middle;\n",
       "    }\n",
       "\n",
       "    .dataframe tbody tr th {\n",
       "        vertical-align: top;\n",
       "    }\n",
       "\n",
       "    .dataframe thead th {\n",
       "        text-align: right;\n",
       "    }\n",
       "</style>\n",
       "<table border=\"1\" class=\"dataframe\">\n",
       "  <thead>\n",
       "    <tr style=\"text-align: right;\">\n",
       "      <th></th>\n",
       "      <th>Unnamed: 0</th>\n",
       "      <th>a</th>\n",
       "      <th>b</th>\n",
       "      <th>c</th>\n",
       "    </tr>\n",
       "  </thead>\n",
       "  <tbody>\n",
       "    <tr>\n",
       "      <th>0</th>\n",
       "      <td>0</td>\n",
       "      <td>1</td>\n",
       "      <td>8</td>\n",
       "      <td>1</td>\n",
       "    </tr>\n",
       "    <tr>\n",
       "      <th>1</th>\n",
       "      <td>1</td>\n",
       "      <td>2</td>\n",
       "      <td>2</td>\n",
       "      <td>2</td>\n",
       "    </tr>\n",
       "    <tr>\n",
       "      <th>2</th>\n",
       "      <td>2</td>\n",
       "      <td>3</td>\n",
       "      <td>3</td>\n",
       "      <td>3</td>\n",
       "    </tr>\n",
       "    <tr>\n",
       "      <th>3</th>\n",
       "      <td>3</td>\n",
       "      <td>4</td>\n",
       "      <td>4</td>\n",
       "      <td>4</td>\n",
       "    </tr>\n",
       "    <tr>\n",
       "      <th>4</th>\n",
       "      <td>4</td>\n",
       "      <td>5</td>\n",
       "      <td>5</td>\n",
       "      <td>5</td>\n",
       "    </tr>\n",
       "    <tr>\n",
       "      <th>5</th>\n",
       "      <td>5</td>\n",
       "      <td>6</td>\n",
       "      <td>6</td>\n",
       "      <td>6</td>\n",
       "    </tr>\n",
       "  </tbody>\n",
       "</table>\n",
       "</div>"
      ],
      "text/plain": [
       "   Unnamed: 0  a  b  c\n",
       "0           0  1  8  1\n",
       "1           1  2  2  2\n",
       "2           2  3  3  3\n",
       "3           3  4  4  4\n",
       "4           4  5  5  5\n",
       "5           5  6  6  6"
      ]
     },
     "execution_count": 38,
     "metadata": {},
     "output_type": "execute_result"
    }
   ],
   "source": [
    "csv_1.loc[0,\"b\"]=8\n",
    "          \n",
    "csv_1\n",
    "\n",
    "!Note (this method is use to change the value in a column .... csv_1.loc[0,\"b\"]=8 iss mn hm rows r columns pas kr rhy hoty\n",
    "       hein r = lga kr vo value likhty hn jo hm chng krwa kr likhna chah rhy hoty hn orignal ki jga )"
   ]
  },
  {
   "cell_type": "code",
   "execution_count": 42,
   "id": "4118eeb5",
   "metadata": {},
   "outputs": [
    {
     "data": {
      "text/html": [
       "<div>\n",
       "<style scoped>\n",
       "    .dataframe tbody tr th:only-of-type {\n",
       "        vertical-align: middle;\n",
       "    }\n",
       "\n",
       "    .dataframe tbody tr th {\n",
       "        vertical-align: top;\n",
       "    }\n",
       "\n",
       "    .dataframe thead th {\n",
       "        text-align: right;\n",
       "    }\n",
       "</style>\n",
       "<table border=\"1\" class=\"dataframe\">\n",
       "  <thead>\n",
       "    <tr style=\"text-align: right;\">\n",
       "      <th></th>\n",
       "      <th>a</th>\n",
       "      <th>b</th>\n",
       "    </tr>\n",
       "  </thead>\n",
       "  <tbody>\n",
       "    <tr>\n",
       "      <th>2</th>\n",
       "      <td>3</td>\n",
       "      <td>3</td>\n",
       "    </tr>\n",
       "    <tr>\n",
       "      <th>3</th>\n",
       "      <td>4</td>\n",
       "      <td>4</td>\n",
       "    </tr>\n",
       "  </tbody>\n",
       "</table>\n",
       "</div>"
      ],
      "text/plain": [
       "   a  b\n",
       "2  3  3\n",
       "3  4  4"
      ]
     },
     "execution_count": 42,
     "metadata": {},
     "output_type": "execute_result"
    }
   ],
   "source": [
    "Note! loc function k through hm kisi aik particular data ko b get krskty hn\n",
    "\n",
    "csv_1 = pd.read_csv(\"C:\\\\Users\\\\H-H Traders\\\\Desktop\\\\Python_Learning\\\\Pandas_CSV_files\\\\test_new.csv\")\n",
    "\n",
    "csv_1.loc[[2,3],[\"a\",\"b\"]]\n"
   ]
  },
  {
   "cell_type": "code",
   "execution_count": 44,
   "id": "6cb696ab",
   "metadata": {},
   "outputs": [
    {
     "data": {
      "text/html": [
       "<div>\n",
       "<style scoped>\n",
       "    .dataframe tbody tr th:only-of-type {\n",
       "        vertical-align: middle;\n",
       "    }\n",
       "\n",
       "    .dataframe tbody tr th {\n",
       "        vertical-align: top;\n",
       "    }\n",
       "\n",
       "    .dataframe thead th {\n",
       "        text-align: right;\n",
       "    }\n",
       "</style>\n",
       "<table border=\"1\" class=\"dataframe\">\n",
       "  <thead>\n",
       "    <tr style=\"text-align: right;\">\n",
       "      <th></th>\n",
       "      <th>a</th>\n",
       "      <th>b</th>\n",
       "    </tr>\n",
       "  </thead>\n",
       "  <tbody>\n",
       "    <tr>\n",
       "      <th>0</th>\n",
       "      <td>1</td>\n",
       "      <td>1</td>\n",
       "    </tr>\n",
       "    <tr>\n",
       "      <th>1</th>\n",
       "      <td>2</td>\n",
       "      <td>2</td>\n",
       "    </tr>\n",
       "    <tr>\n",
       "      <th>2</th>\n",
       "      <td>3</td>\n",
       "      <td>3</td>\n",
       "    </tr>\n",
       "    <tr>\n",
       "      <th>3</th>\n",
       "      <td>4</td>\n",
       "      <td>4</td>\n",
       "    </tr>\n",
       "    <tr>\n",
       "      <th>4</th>\n",
       "      <td>5</td>\n",
       "      <td>5</td>\n",
       "    </tr>\n",
       "    <tr>\n",
       "      <th>5</th>\n",
       "      <td>6</td>\n",
       "      <td>6</td>\n",
       "    </tr>\n",
       "  </tbody>\n",
       "</table>\n",
       "</div>"
      ],
      "text/plain": [
       "   a  b\n",
       "0  1  1\n",
       "1  2  2\n",
       "2  3  3\n",
       "3  4  4\n",
       "4  5  5\n",
       "5  6  6"
      ]
     },
     "execution_count": 44,
     "metadata": {},
     "output_type": "execute_result"
    }
   ],
   "source": [
    "csv_1 = pd.read_csv(\"C:\\\\Users\\\\H-H Traders\\\\Desktop\\\\Python_Learning\\\\Pandas_CSV_files\\\\test_new.csv\")\n",
    "\n",
    "csv_1.loc[:,[\"a\",\"b\"]] !Note (ye 'a' and 'b' ka sara data get krny ka treeqa hai aik)\n"
   ]
  },
  {
   "cell_type": "code",
   "execution_count": 45,
   "id": "6af7f058",
   "metadata": {},
   "outputs": [
    {
     "data": {
      "text/html": [
       "<div>\n",
       "<style scoped>\n",
       "    .dataframe tbody tr th:only-of-type {\n",
       "        vertical-align: middle;\n",
       "    }\n",
       "\n",
       "    .dataframe tbody tr th {\n",
       "        vertical-align: top;\n",
       "    }\n",
       "\n",
       "    .dataframe thead th {\n",
       "        text-align: right;\n",
       "    }\n",
       "</style>\n",
       "<table border=\"1\" class=\"dataframe\">\n",
       "  <thead>\n",
       "    <tr style=\"text-align: right;\">\n",
       "      <th></th>\n",
       "      <th>Unnamed: 0</th>\n",
       "      <th>a</th>\n",
       "      <th>b</th>\n",
       "      <th>c</th>\n",
       "    </tr>\n",
       "  </thead>\n",
       "  <tbody>\n",
       "    <tr>\n",
       "      <th>2</th>\n",
       "      <td>2</td>\n",
       "      <td>3</td>\n",
       "      <td>3</td>\n",
       "      <td>3</td>\n",
       "    </tr>\n",
       "    <tr>\n",
       "      <th>3</th>\n",
       "      <td>3</td>\n",
       "      <td>4</td>\n",
       "      <td>4</td>\n",
       "      <td>4</td>\n",
       "    </tr>\n",
       "  </tbody>\n",
       "</table>\n",
       "</div>"
      ],
      "text/plain": [
       "   Unnamed: 0  a  b  c\n",
       "2           2  3  3  3\n",
       "3           3  4  4  4"
      ]
     },
     "execution_count": 45,
     "metadata": {},
     "output_type": "execute_result"
    }
   ],
   "source": [
    "csv_1 = pd.read_csv(\"C:\\\\Users\\\\H-H Traders\\\\Desktop\\\\Python_Learning\\\\Pandas_CSV_files\\\\test_new.csv\")\n",
    "\n",
    "csv_1.loc[[2,3],:]  !Note (ye 2 and 3 row ka sara data get krny ka aik treeqa hai)"
   ]
  },
  {
   "cell_type": "code",
   "execution_count": 47,
   "id": "5b8440cd",
   "metadata": {},
   "outputs": [
    {
     "data": {
      "text/plain": [
       "1"
      ]
     },
     "execution_count": 47,
     "metadata": {},
     "output_type": "execute_result"
    }
   ],
   "source": [
    "csv_1.iloc[0,2]"
   ]
  },
  {
   "cell_type": "code",
   "execution_count": 48,
   "id": "80f21fea",
   "metadata": {},
   "outputs": [
    {
     "data": {
      "text/html": [
       "<div>\n",
       "<style scoped>\n",
       "    .dataframe tbody tr th:only-of-type {\n",
       "        vertical-align: middle;\n",
       "    }\n",
       "\n",
       "    .dataframe tbody tr th {\n",
       "        vertical-align: top;\n",
       "    }\n",
       "\n",
       "    .dataframe thead th {\n",
       "        text-align: right;\n",
       "    }\n",
       "</style>\n",
       "<table border=\"1\" class=\"dataframe\">\n",
       "  <thead>\n",
       "    <tr style=\"text-align: right;\">\n",
       "      <th></th>\n",
       "      <th>Unnamed: 0</th>\n",
       "      <th>a</th>\n",
       "      <th>c</th>\n",
       "    </tr>\n",
       "  </thead>\n",
       "  <tbody>\n",
       "    <tr>\n",
       "      <th>0</th>\n",
       "      <td>0</td>\n",
       "      <td>1</td>\n",
       "      <td>1</td>\n",
       "    </tr>\n",
       "    <tr>\n",
       "      <th>1</th>\n",
       "      <td>1</td>\n",
       "      <td>2</td>\n",
       "      <td>2</td>\n",
       "    </tr>\n",
       "    <tr>\n",
       "      <th>2</th>\n",
       "      <td>2</td>\n",
       "      <td>3</td>\n",
       "      <td>3</td>\n",
       "    </tr>\n",
       "    <tr>\n",
       "      <th>3</th>\n",
       "      <td>3</td>\n",
       "      <td>4</td>\n",
       "      <td>4</td>\n",
       "    </tr>\n",
       "    <tr>\n",
       "      <th>4</th>\n",
       "      <td>4</td>\n",
       "      <td>5</td>\n",
       "      <td>5</td>\n",
       "    </tr>\n",
       "    <tr>\n",
       "      <th>5</th>\n",
       "      <td>5</td>\n",
       "      <td>6</td>\n",
       "      <td>6</td>\n",
       "    </tr>\n",
       "  </tbody>\n",
       "</table>\n",
       "</div>"
      ],
      "text/plain": [
       "   Unnamed: 0  a  c\n",
       "0           0  1  1\n",
       "1           1  2  2\n",
       "2           2  3  3\n",
       "3           3  4  4\n",
       "4           4  5  5\n",
       "5           5  6  6"
      ]
     },
     "execution_count": 48,
     "metadata": {},
     "output_type": "execute_result"
    }
   ],
   "source": [
    "csv_1.drop(\"b\",axis=1) \n",
    "\n",
    "!Note drop hm koi  b column ya row ko delete krny k liye use krty hn .... r jb hm axis mn 0 dyty hn to\n",
    "uska mtlb hota hai row r jb hm 1 dyty hn to uska mtlb hota h column)"
   ]
  },
  {
   "cell_type": "code",
   "execution_count": null,
   "id": "c1d2e21f",
   "metadata": {},
   "outputs": [],
   "source": [
    "csv_1.drop(1,axis=1) !Note ye treeqa use kren gy kisi b aik specific column ko delete / drop keny k liye"
   ]
  },
  {
   "cell_type": "markdown",
   "id": "e89cfe11",
   "metadata": {},
   "source": [
    "# Handling Missing Data (Dropna & Fillna) in CSV fies"
   ]
  },
  {
   "cell_type": "code",
   "execution_count": 1,
   "id": "4c729de4",
   "metadata": {},
   "outputs": [
    {
     "data": {
      "text/html": [
       "<div>\n",
       "<style scoped>\n",
       "    .dataframe tbody tr th:only-of-type {\n",
       "        vertical-align: middle;\n",
       "    }\n",
       "\n",
       "    .dataframe tbody tr th {\n",
       "        vertical-align: top;\n",
       "    }\n",
       "\n",
       "    .dataframe thead th {\n",
       "        text-align: right;\n",
       "    }\n",
       "</style>\n",
       "<table border=\"1\" class=\"dataframe\">\n",
       "  <thead>\n",
       "    <tr style=\"text-align: right;\">\n",
       "      <th></th>\n",
       "      <th>Unnamed: 0</th>\n",
       "      <th>a</th>\n",
       "      <th>b</th>\n",
       "      <th>c</th>\n",
       "    </tr>\n",
       "  </thead>\n",
       "  <tbody>\n",
       "    <tr>\n",
       "      <th>0</th>\n",
       "      <td>0</td>\n",
       "      <td>1</td>\n",
       "      <td>1</td>\n",
       "      <td>1</td>\n",
       "    </tr>\n",
       "    <tr>\n",
       "      <th>1</th>\n",
       "      <td>1</td>\n",
       "      <td>2</td>\n",
       "      <td>2</td>\n",
       "      <td>2</td>\n",
       "    </tr>\n",
       "    <tr>\n",
       "      <th>2</th>\n",
       "      <td>2</td>\n",
       "      <td>3</td>\n",
       "      <td>3</td>\n",
       "      <td>3</td>\n",
       "    </tr>\n",
       "    <tr>\n",
       "      <th>3</th>\n",
       "      <td>3</td>\n",
       "      <td>4</td>\n",
       "      <td>4</td>\n",
       "      <td>4</td>\n",
       "    </tr>\n",
       "    <tr>\n",
       "      <th>4</th>\n",
       "      <td>4</td>\n",
       "      <td>5</td>\n",
       "      <td>5</td>\n",
       "      <td>5</td>\n",
       "    </tr>\n",
       "    <tr>\n",
       "      <th>5</th>\n",
       "      <td>5</td>\n",
       "      <td>6</td>\n",
       "      <td>6</td>\n",
       "      <td>6</td>\n",
       "    </tr>\n",
       "  </tbody>\n",
       "</table>\n",
       "</div>"
      ],
      "text/plain": [
       "   Unnamed: 0  a  b  c\n",
       "0           0  1  1  1\n",
       "1           1  2  2  2\n",
       "2           2  3  3  3\n",
       "3           3  4  4  4\n",
       "4           4  5  5  5\n",
       "5           5  6  6  6"
      ]
     },
     "execution_count": 1,
     "metadata": {},
     "output_type": "execute_result"
    }
   ],
   "source": [
    "import pandas as pd\n",
    "\n",
    "csv_1 = pd.read_csv(\"C:\\\\Users\\\\H-H Traders\\\\Desktop\\\\Python_Learning\\\\Pandas_CSV_files\\\\test_new.csv\")\n",
    "\n",
    "csv_1"
   ]
  },
  {
   "cell_type": "markdown",
   "id": "3f462915",
   "metadata": {},
   "source": [
    "### Dropna "
   ]
  },
  {
   "cell_type": "code",
   "execution_count": null,
   "id": "81b2ee33",
   "metadata": {},
   "outputs": [],
   "source": [
    "csv_1.dropna() !Note (ye use hota hai kisi bhi NAN value ko remaove krny k liye ... ye vo pouri row hi remove kr dyta hai jis\n",
    "                      mn NAN value exist kr rhi ho)"
   ]
  },
  {
   "cell_type": "code",
   "execution_count": null,
   "id": "e1fbd634",
   "metadata": {},
   "outputs": [],
   "source": [
    "csv_1.dropna(axis=1)  !Note (iss mn hm axis ka use krskty hein ... like axis=1 column ko remove krta hai jis mn NAN value exist\n",
    "                            kr rhi ho r axis=0 us row ko remove krta hai jis mn NAN value exist kr rhi ho)"
   ]
  },
  {
   "cell_type": "code",
   "execution_count": null,
   "id": "05d70213",
   "metadata": {},
   "outputs": [],
   "source": [
    "csv_1.dropna(\"any\")  !Note (ye usky liye kam ata hai any k agr hmary pas kisi row mn sbi value NAN ho to us pouri row ko \n",
    "                           remove krny k liye ye any use hota hai)"
   ]
  },
  {
   "cell_type": "code",
   "execution_count": null,
   "id": "42fc61bd",
   "metadata": {},
   "outputs": [],
   "source": [
    "csv_1.dropna(\"all\") !Note (ye usko to htta dy ka jis row mn sbi value NAN hongi pr kisi row mn koi aik do value NAN hon to usko\n",
    "                          nii httay ga usko show krwaye ga ye data mn)"
   ]
  },
  {
   "cell_type": "code",
   "execution_count": null,
   "id": "80c13ec5",
   "metadata": {},
   "outputs": [],
   "source": [
    "csv_1.dropna(subset=[\"python\"]) !Note (iss mn hm ny aik parameter pas kia hai jiska name subset hai r usky bad [] brackets mn \n",
    "                                      kisi aik column ka name dia hai .... to ye parameter hm iss liye use krty hn k agr hmko\n",
    "                                      kisi aik specific column mn se NAN value ko remove krna ho)"
   ]
  },
  {
   "cell_type": "code",
   "execution_count": null,
   "id": "ac8cda02",
   "metadata": {},
   "outputs": [],
   "source": [
    "csv_1.dropna(inplace=True) !Note (iss mn hm sbi NAN value ho htta kr uski jga koi new value place krskty hn)"
   ]
  },
  {
   "cell_type": "code",
   "execution_count": null,
   "id": "3998ae22",
   "metadata": {},
   "outputs": [],
   "source": [
    "csv_1.dropna(thresh=1) !Note (ye thresh hm kisi NAN value ko remove krny k liye use kr rhy hn thresh=1 ka mtlb hai k kis column\n",
    "                             mn aik NAN value hai usy htta do.....iss 1 ki value ko hm apny according chang krskty hn like 1,2\n",
    "                             jo b dyna chahy hm dyskty according to our need)"
   ]
  },
  {
   "cell_type": "markdown",
   "id": "6a70a81f",
   "metadata": {},
   "source": [
    "### Fillna"
   ]
  },
  {
   "cell_type": "code",
   "execution_count": null,
   "id": "ef16efb6",
   "metadata": {},
   "outputs": [],
   "source": [
    "csv_1.fillna(\"c++\") !Note (fillna(\"c++\") ka mtlb hai k sary data mn hmary pas jahna jahn b NAN value hai usko hm c++ se fill \n",
    "                          krna chah rhy hn .... () mn dbl quots mn hm vo value likhty hn jo hm NAN ki jga likhna chah rhy\n",
    "                          hoty hn)"
   ]
  },
  {
   "cell_type": "code",
   "execution_count": null,
   "id": "6b0ee6c7",
   "metadata": {},
   "outputs": [],
   "source": [
    "csv_1.fillna({\"a\":\"robi\",\"b\":\"php\",'c':\"laravel\"})   !Note (agr hm kisi particular column k andr particular data ko pas krwana \n",
    "                                                            chahty hn)"
   ]
  },
  {
   "cell_type": "code",
   "execution_count": null,
   "id": "24b15a33",
   "metadata": {},
   "outputs": [],
   "source": [
    "csv_1.fillna(method=\"ffill\")  !Note (agr hm chahty hn k NAN value apni previous value se fill ho jaye ... to isky \n",
    "                                      liye hm method ka use kren gy r isky 2 parameters hoty hn aik h forward filling r dosra h \n",
    "csv_1.fillna(method=\"bfill\")          backword filling)\n",
    "\n",
    "csv_1.fillna(method=\"bfill\",axis=1) \n",
    "\n",
    "csv_1.fillna(method=\"bfill\",axis=0) "
   ]
  },
  {
   "cell_type": "code",
   "execution_count": null,
   "id": "8ecc31b2",
   "metadata": {},
   "outputs": [],
   "source": [
    "csv_1.fillna(12,inplace=True)    !Note (how to use inplace ... inplace ki value true ya false hoti hai)"
   ]
  },
  {
   "cell_type": "code",
   "execution_count": null,
   "id": "ec2ca6f1",
   "metadata": {},
   "outputs": [],
   "source": [
    "csv_1.fillna(\"python\",limit=2)  !Note (yani hm aik limit bta dyty hn k jis column mn NAN h us mn python set krdo yani minimum\n",
    "                                      NAN 2 hon jis mn)"
   ]
  },
  {
   "cell_type": "markdown",
   "id": "a61085a5",
   "metadata": {},
   "source": [
    "### Replace"
   ]
  },
  {
   "cell_type": "code",
   "execution_count": null,
   "id": "c7b6b83b",
   "metadata": {},
   "outputs": [],
   "source": [
    "* runtime pr kisi data ko replace kr k uski jga koi dosra data rkhna to usky liye hm replace ka use krty hn\n"
   ]
  },
  {
   "cell_type": "code",
   "execution_count": null,
   "id": "392dcd3b",
   "metadata": {},
   "outputs": [],
   "source": [
    "csv_1.replace(to_replace=1,value=22) !Note (replace ka function value ko replace krny k liye use hota hai ... to_replace ka\n",
    "                                                   mtlb hai k hm kis chz ko replace krna chah rhy hn r value ka mtlb hai k hm kya value\n",
    "csv_1.replace(to_replace=\"pthon\",value=\"c++\")       dyna chah rhy hn us ki jga)\n",
    "\n",
    "csv_1.replace([1,2,3,4,5],22)               !Note ([1,2,3,4,5] ye index numbers hein r jo 22 hai ye vo value h jo uski jga \n",
    "                                                   replace hogi jahan jahan b in index pr numeric values hn)\n",
    "\n",
    "csv_1.replace(\"[A-Za-z]\",\"c++\",regex=True)  !Note (regex parameter ko use krty huye value ko replace kia h yahn capital A-Z\n",
    "                                                   se lykr small a-z tk ki value ko c++ se replace kia h yahan) \n",
    "\n",
    "csv_1.replace({\"b\":\"[A-Z]\"},22,regex=True)  !Note (dictionary ko use krty huye value ko replace krna)"
   ]
  },
  {
   "cell_type": "code",
   "execution_count": null,
   "id": "b450ec05",
   "metadata": {},
   "outputs": [],
   "source": [
    "csv_1.replace(1,method=\"ffill\")   !Note (replace mn method function ko use krty huye value replace krna)"
   ]
  },
  {
   "cell_type": "code",
   "execution_count": null,
   "id": "64c651cc",
   "metadata": {},
   "outputs": [],
   "source": [
    "csv_1.replace(1,method=\"ffill\",limit=2)  !Note (limit ka use krty huye value ko replace krna mtlb k hm kitni value ko replace\n",
    "                                               krna chahty hn to usky liye hm ny aik limit set krdi ye treeqa copy bna kr us \n",
    "                                               mn change krta hai)\n",
    "\n",
    "csv_1.replace(1,method=\"ffill\",limit=2,inplace,True) !Note (ye orignal mn change kry ga values ko koi copy nii bnaye ga)"
   ]
  },
  {
   "cell_type": "markdown",
   "id": "201406e5",
   "metadata": {},
   "source": [
    "### Interpolate"
   ]
  },
  {
   "cell_type": "markdown",
   "id": "b5e16773",
   "metadata": {},
   "source": [
    "> Missing data ko automatically fill krny k liye use kren gy .... automatic ka matlb ye ni hai koi b data fill hojaye ga\n",
    "  akr blky ye pichly data k sequence se observe krta hai r usky according data fill hoga .... means apny ap sequence wise data     fill krdy ga...iss mn hmko khud se data nii dyna prta fill krny k liye ....interpolate sirf numeric values k liye work krta\n",
    "  hai ya ap keh lijiye digits/number k liye hi"
   ]
  },
  {
   "cell_type": "markdown",
   "id": "371ce490",
   "metadata": {},
   "source": [
    "csv_1.interpolate()"
   ]
  },
  {
   "cell_type": "code",
   "execution_count": null,
   "id": "e31f4966",
   "metadata": {},
   "outputs": [],
   "source": [
    "csv_1.interpolate(method=\"linear\",axis=1)"
   ]
  },
  {
   "cell_type": "code",
   "execution_count": null,
   "id": "a962727d",
   "metadata": {},
   "outputs": [],
   "source": [
    "csv_1.interpolate(method=\"linear\",axis=1,limit=2)"
   ]
  },
  {
   "cell_type": "code",
   "execution_count": null,
   "id": "5299eb63",
   "metadata": {},
   "outputs": [],
   "source": [
    "csv_1.interpolate(limit_direction=\"forward\",limit=2) !Note (yahan limit_direction ka use kia gya hai limit ki direction\n",
    "                                                           btany k liye to ye direction forward b hoskti hai backword bhi\n",
    "                                                           hoskti hai r both b hoskti hai)\n",
    "csv_1.interpolate(limit_direction=\"backward\",limit=2)\n",
    "csv_1.interpolate(limit_direction=\"both\",limit=2)"
   ]
  },
  {
   "cell_type": "code",
   "execution_count": null,
   "id": "129c576d",
   "metadata": {},
   "outputs": [],
   "source": [
    "csv_1.interpolate(limit_area=\"inside\")    !Note (limit area hm isliye use krty hn taky hm bta skein k yahan hm ny \n",
    "                                                     interpolate ko use krna hai ya ni krna hai to hm aik area specify kr \n",
    "                                                     dyty hn)\n",
    "csv_1.interpolate(limit_area=\"outside\")"
   ]
  },
  {
   "cell_type": "markdown",
   "id": "de122e99",
   "metadata": {},
   "source": [
    "# Merging & Concat in python pandas (2 ya 2 se zyada DataFrames ko hm kesy merge kren gy etc)"
   ]
  },
  {
   "cell_type": "markdown",
   "id": "3c136ad1",
   "metadata": {},
   "source": [
    "### Merge"
   ]
  },
  {
   "cell_type": "code",
   "execution_count": null,
   "id": "22ced118",
   "metadata": {},
   "outputs": [],
   "source": [
    "* DataFrames ko merge krny k liye hmary pas in mn koi aik chz comman honi chahiye like Id etc"
   ]
  },
  {
   "cell_type": "code",
   "execution_count": 2,
   "id": "dad742e1",
   "metadata": {},
   "outputs": [
    {
     "data": {
      "text/html": [
       "<div>\n",
       "<style scoped>\n",
       "    .dataframe tbody tr th:only-of-type {\n",
       "        vertical-align: middle;\n",
       "    }\n",
       "\n",
       "    .dataframe tbody tr th {\n",
       "        vertical-align: top;\n",
       "    }\n",
       "\n",
       "    .dataframe thead th {\n",
       "        text-align: right;\n",
       "    }\n",
       "</style>\n",
       "<table border=\"1\" class=\"dataframe\">\n",
       "  <thead>\n",
       "    <tr style=\"text-align: right;\">\n",
       "      <th></th>\n",
       "      <th>A</th>\n",
       "      <th>C</th>\n",
       "      <th>B</th>\n",
       "    </tr>\n",
       "  </thead>\n",
       "  <tbody>\n",
       "    <tr>\n",
       "      <th>0</th>\n",
       "      <td>1</td>\n",
       "      <td>22</td>\n",
       "      <td>11</td>\n",
       "    </tr>\n",
       "    <tr>\n",
       "      <th>1</th>\n",
       "      <td>2</td>\n",
       "      <td>33</td>\n",
       "      <td>12</td>\n",
       "    </tr>\n",
       "    <tr>\n",
       "      <th>2</th>\n",
       "      <td>3</td>\n",
       "      <td>44</td>\n",
       "      <td>13</td>\n",
       "    </tr>\n",
       "    <tr>\n",
       "      <th>3</th>\n",
       "      <td>4</td>\n",
       "      <td>55</td>\n",
       "      <td>14</td>\n",
       "    </tr>\n",
       "  </tbody>\n",
       "</table>\n",
       "</div>"
      ],
      "text/plain": [
       "   A   C   B\n",
       "0  1  22  11\n",
       "1  2  33  12\n",
       "2  3  44  13\n",
       "3  4  55  14"
      ]
     },
     "execution_count": 2,
     "metadata": {},
     "output_type": "execute_result"
    }
   ],
   "source": [
    "import pandas as pd\n",
    "\n",
    "var1=pd.DataFrame({\"A\":[1,2,3,4],\"B\":[11,12,13,14]})\n",
    "\n",
    "var2=pd.DataFrame({\"A\":[1,2,3,4],\"C\":[22,33,44,55]})\n",
    "\n",
    "pd.merge(var1,var2,on=\"A\")\n",
    "\n",
    "pd.merge(var2,var1,on=\"A\")\n",
    "\n",
    "!Note (hmary pas jitni b chz common hogi iss mn us hisab se hmary pas new dataset ajaye ga)"
   ]
  },
  {
   "cell_type": "code",
   "execution_count": null,
   "id": "b63a2034",
   "metadata": {},
   "outputs": [],
   "source": [
    "var1=pd.DataFrame({\"A\":[1,2,3,4],\"B\":[11,12,13,14]})\n",
    "\n",
    "var2=pd.DataFrame({\"A\":[1,2,3,5],\"C\":[22,33,44,55]})  (yahan \"A\" mn 2 value alg alg hn like 4 and 5 means ye common nii hai to\n",
    "                                                      merge krty huye ye 2 value show nii hongi baqi jo values A mn common hn\n",
    "                                                      vo show ho jaye gi .... to jo value common ni hn like 4 and 5 inko bhi\n",
    "                                                      show krwany k liye hm how ka use kren gy)\n",
    "\n",
    "pd.merge(var1,var2,how=\"inner\")   (ye how ki inner value bydefault hoti hai iss se koi asr nii prta)\n",
    "\n",
    "pd.merge(var1,var2,how=\"left\")    (yahan isky liye var1 left hai to ye var1 k sary data k according dataset show kry ga)\n",
    "\n",
    "pd.merge(var1,var2,how=\"right\")   (yahan isky liye var2 right hai to ye var2 k sary data k according dataset show kry ga)\n",
    "\n",
    "pd.merge(var1,var2,how=\"outer\")   (yahan ye dono var1 and var2 k sary data k according dataset show kry ga)\n",
    "\n",
    "pd.merge(var1,var2,indicator=True)  (indicator=True ye dekhny k liye h k hmary pas kon konse data present hai r merge hochuky\n",
    "                                    hn r kon kon se data hn jo present b ni r abi tk merge b ni huye hn)\n",
    "\n"
   ]
  },
  {
   "cell_type": "code",
   "execution_count": 3,
   "id": "b05a3c71",
   "metadata": {},
   "outputs": [
    {
     "data": {
      "text/html": [
       "<div>\n",
       "<style scoped>\n",
       "    .dataframe tbody tr th:only-of-type {\n",
       "        vertical-align: middle;\n",
       "    }\n",
       "\n",
       "    .dataframe tbody tr th {\n",
       "        vertical-align: top;\n",
       "    }\n",
       "\n",
       "    .dataframe thead th {\n",
       "        text-align: right;\n",
       "    }\n",
       "</style>\n",
       "<table border=\"1\" class=\"dataframe\">\n",
       "  <thead>\n",
       "    <tr style=\"text-align: right;\">\n",
       "      <th></th>\n",
       "      <th>A_x</th>\n",
       "      <th>B</th>\n",
       "      <th>A_y</th>\n",
       "      <th>C</th>\n",
       "    </tr>\n",
       "  </thead>\n",
       "  <tbody>\n",
       "    <tr>\n",
       "      <th>0</th>\n",
       "      <td>1</td>\n",
       "      <td>11</td>\n",
       "      <td>1</td>\n",
       "      <td>22</td>\n",
       "    </tr>\n",
       "    <tr>\n",
       "      <th>1</th>\n",
       "      <td>2</td>\n",
       "      <td>12</td>\n",
       "      <td>2</td>\n",
       "      <td>33</td>\n",
       "    </tr>\n",
       "    <tr>\n",
       "      <th>2</th>\n",
       "      <td>3</td>\n",
       "      <td>13</td>\n",
       "      <td>3</td>\n",
       "      <td>44</td>\n",
       "    </tr>\n",
       "    <tr>\n",
       "      <th>3</th>\n",
       "      <td>4</td>\n",
       "      <td>14</td>\n",
       "      <td>5</td>\n",
       "      <td>55</td>\n",
       "    </tr>\n",
       "  </tbody>\n",
       "</table>\n",
       "</div>"
      ],
      "text/plain": [
       "   A_x   B  A_y   C\n",
       "0    1  11    1  22\n",
       "1    2  12    2  33\n",
       "2    3  13    3  44\n",
       "3    4  14    5  55"
      ]
     },
     "execution_count": 3,
     "metadata": {},
     "output_type": "execute_result"
    }
   ],
   "source": [
    "var1=pd.DataFrame({\"A\":[1,2,3,4],\"B\":[11,12,13,14]})\n",
    "\n",
    "var2=pd.DataFrame({\"A\":[1,2,3,5],\"C\":[22,33,44,55]}) \n",
    "\n",
    "pd.merge(var1,var2,left_index=True,right_index=True)"
   ]
  },
  {
   "cell_type": "code",
   "execution_count": 5,
   "id": "a58dc2c4",
   "metadata": {},
   "outputs": [
    {
     "data": {
      "text/html": [
       "<div>\n",
       "<style scoped>\n",
       "    .dataframe tbody tr th:only-of-type {\n",
       "        vertical-align: middle;\n",
       "    }\n",
       "\n",
       "    .dataframe tbody tr th {\n",
       "        vertical-align: top;\n",
       "    }\n",
       "\n",
       "    .dataframe thead th {\n",
       "        text-align: right;\n",
       "    }\n",
       "</style>\n",
       "<table border=\"1\" class=\"dataframe\">\n",
       "  <thead>\n",
       "    <tr style=\"text-align: right;\">\n",
       "      <th></th>\n",
       "      <th>Aname</th>\n",
       "      <th>B</th>\n",
       "      <th>Aid</th>\n",
       "      <th>C</th>\n",
       "    </tr>\n",
       "  </thead>\n",
       "  <tbody>\n",
       "    <tr>\n",
       "      <th>0</th>\n",
       "      <td>1</td>\n",
       "      <td>11</td>\n",
       "      <td>1</td>\n",
       "      <td>22</td>\n",
       "    </tr>\n",
       "    <tr>\n",
       "      <th>1</th>\n",
       "      <td>2</td>\n",
       "      <td>12</td>\n",
       "      <td>2</td>\n",
       "      <td>33</td>\n",
       "    </tr>\n",
       "    <tr>\n",
       "      <th>2</th>\n",
       "      <td>3</td>\n",
       "      <td>13</td>\n",
       "      <td>3</td>\n",
       "      <td>44</td>\n",
       "    </tr>\n",
       "    <tr>\n",
       "      <th>3</th>\n",
       "      <td>4</td>\n",
       "      <td>14</td>\n",
       "      <td>5</td>\n",
       "      <td>55</td>\n",
       "    </tr>\n",
       "  </tbody>\n",
       "</table>\n",
       "</div>"
      ],
      "text/plain": [
       "   Aname   B  Aid   C\n",
       "0      1  11    1  22\n",
       "1      2  12    2  33\n",
       "2      3  13    3  44\n",
       "3      4  14    5  55"
      ]
     },
     "execution_count": 5,
     "metadata": {},
     "output_type": "execute_result"
    }
   ],
   "source": [
    "* agr hm in columns like A_x,B,A_y,C ko koi name dyna chahty hn to usky liye hn suffixes ka method use kren gy\n",
    "\n",
    "\n",
    "var1=pd.DataFrame({\"A\":[1,2,3,4],\"B\":[11,12,13,14]})\n",
    "\n",
    "var2=pd.DataFrame({\"A\":[1,2,3,5],\"C\":[22,33,44,55]}) \n",
    "\n",
    "pd.merge(var1,var2,left_index=True,right_index=True,suffixes=(\"name\",\"id\"))"
   ]
  },
  {
   "cell_type": "markdown",
   "id": "294938a7",
   "metadata": {},
   "source": [
    "### Concate"
   ]
  },
  {
   "cell_type": "markdown",
   "id": "17a3c4d6",
   "metadata": {},
   "source": [
    "* Concate bhi hmary pas 2 dataFrames ya 2 series ko jorny k kam ata hai\n",
    "* ye common ko ni dekhta bs kisi b 2 dataframe ya series ko aps mn join kr dyta hai chahy vo common hon ya ni hon"
   ]
  },
  {
   "cell_type": "code",
   "execution_count": 7,
   "id": "bf05063b",
   "metadata": {},
   "outputs": [
    {
     "data": {
      "text/plain": [
       "0     1\n",
       "1     2\n",
       "2     3\n",
       "3     4\n",
       "0    11\n",
       "1    22\n",
       "2    33\n",
       "3    44\n",
       "dtype: int64"
      ]
     },
     "execution_count": 7,
     "metadata": {},
     "output_type": "execute_result"
    }
   ],
   "source": [
    "series1=pd.Series([1,2,3,4])\n",
    "\n",
    "series2=pd.Series([11,22,33,44])\n",
    "\n",
    "pd.concat([series1,series2])"
   ]
  },
  {
   "cell_type": "code",
   "execution_count": 8,
   "id": "00540548",
   "metadata": {},
   "outputs": [
    {
     "data": {
      "text/html": [
       "<div>\n",
       "<style scoped>\n",
       "    .dataframe tbody tr th:only-of-type {\n",
       "        vertical-align: middle;\n",
       "    }\n",
       "\n",
       "    .dataframe tbody tr th {\n",
       "        vertical-align: top;\n",
       "    }\n",
       "\n",
       "    .dataframe thead th {\n",
       "        text-align: right;\n",
       "    }\n",
       "</style>\n",
       "<table border=\"1\" class=\"dataframe\">\n",
       "  <thead>\n",
       "    <tr style=\"text-align: right;\">\n",
       "      <th></th>\n",
       "      <th>A</th>\n",
       "      <th>B</th>\n",
       "      <th>C</th>\n",
       "    </tr>\n",
       "  </thead>\n",
       "  <tbody>\n",
       "    <tr>\n",
       "      <th>0</th>\n",
       "      <td>1</td>\n",
       "      <td>11.0</td>\n",
       "      <td>NaN</td>\n",
       "    </tr>\n",
       "    <tr>\n",
       "      <th>1</th>\n",
       "      <td>2</td>\n",
       "      <td>12.0</td>\n",
       "      <td>NaN</td>\n",
       "    </tr>\n",
       "    <tr>\n",
       "      <th>2</th>\n",
       "      <td>3</td>\n",
       "      <td>13.0</td>\n",
       "      <td>NaN</td>\n",
       "    </tr>\n",
       "    <tr>\n",
       "      <th>3</th>\n",
       "      <td>4</td>\n",
       "      <td>14.0</td>\n",
       "      <td>NaN</td>\n",
       "    </tr>\n",
       "    <tr>\n",
       "      <th>0</th>\n",
       "      <td>1</td>\n",
       "      <td>NaN</td>\n",
       "      <td>22.0</td>\n",
       "    </tr>\n",
       "    <tr>\n",
       "      <th>1</th>\n",
       "      <td>2</td>\n",
       "      <td>NaN</td>\n",
       "      <td>33.0</td>\n",
       "    </tr>\n",
       "    <tr>\n",
       "      <th>2</th>\n",
       "      <td>3</td>\n",
       "      <td>NaN</td>\n",
       "      <td>44.0</td>\n",
       "    </tr>\n",
       "    <tr>\n",
       "      <th>3</th>\n",
       "      <td>5</td>\n",
       "      <td>NaN</td>\n",
       "      <td>55.0</td>\n",
       "    </tr>\n",
       "  </tbody>\n",
       "</table>\n",
       "</div>"
      ],
      "text/plain": [
       "   A     B     C\n",
       "0  1  11.0   NaN\n",
       "1  2  12.0   NaN\n",
       "2  3  13.0   NaN\n",
       "3  4  14.0   NaN\n",
       "0  1   NaN  22.0\n",
       "1  2   NaN  33.0\n",
       "2  3   NaN  44.0\n",
       "3  5   NaN  55.0"
      ]
     },
     "execution_count": 8,
     "metadata": {},
     "output_type": "execute_result"
    }
   ],
   "source": [
    "v1=pd.DataFrame({\"A\":[1,2,3,4],\"B\":[11,12,13,14]})\n",
    "\n",
    "v2=pd.DataFrame({\"A\":[1,2,3,5],\"C\":[22,33,44,55]}) \n",
    "\n",
    "pd.concat([v1,v2])"
   ]
  },
  {
   "cell_type": "code",
   "execution_count": 9,
   "id": "70e150e6",
   "metadata": {},
   "outputs": [
    {
     "data": {
      "text/html": [
       "<div>\n",
       "<style scoped>\n",
       "    .dataframe tbody tr th:only-of-type {\n",
       "        vertical-align: middle;\n",
       "    }\n",
       "\n",
       "    .dataframe tbody tr th {\n",
       "        vertical-align: top;\n",
       "    }\n",
       "\n",
       "    .dataframe thead th {\n",
       "        text-align: right;\n",
       "    }\n",
       "</style>\n",
       "<table border=\"1\" class=\"dataframe\">\n",
       "  <thead>\n",
       "    <tr style=\"text-align: right;\">\n",
       "      <th></th>\n",
       "      <th>A</th>\n",
       "      <th>B</th>\n",
       "      <th>A</th>\n",
       "      <th>C</th>\n",
       "    </tr>\n",
       "  </thead>\n",
       "  <tbody>\n",
       "    <tr>\n",
       "      <th>0</th>\n",
       "      <td>1</td>\n",
       "      <td>11</td>\n",
       "      <td>1</td>\n",
       "      <td>22</td>\n",
       "    </tr>\n",
       "    <tr>\n",
       "      <th>1</th>\n",
       "      <td>2</td>\n",
       "      <td>12</td>\n",
       "      <td>2</td>\n",
       "      <td>33</td>\n",
       "    </tr>\n",
       "    <tr>\n",
       "      <th>2</th>\n",
       "      <td>3</td>\n",
       "      <td>13</td>\n",
       "      <td>3</td>\n",
       "      <td>44</td>\n",
       "    </tr>\n",
       "    <tr>\n",
       "      <th>3</th>\n",
       "      <td>4</td>\n",
       "      <td>14</td>\n",
       "      <td>5</td>\n",
       "      <td>55</td>\n",
       "    </tr>\n",
       "  </tbody>\n",
       "</table>\n",
       "</div>"
      ],
      "text/plain": [
       "   A   B  A   C\n",
       "0  1  11  1  22\n",
       "1  2  12  2  33\n",
       "2  3  13  3  44\n",
       "3  4  14  5  55"
      ]
     },
     "execution_count": 9,
     "metadata": {},
     "output_type": "execute_result"
    }
   ],
   "source": [
    "v1=pd.DataFrame({\"A\":[1,2,3,4],\"B\":[11,12,13,14]})\n",
    "\n",
    "v2=pd.DataFrame({\"A\":[1,2,3,5],\"C\":[22,33,44,55]}) \n",
    "\n",
    "pd.concat([v1,v2],axis=1) (yahan ye column k hisab se concat kr raha hai q k yahan hm ny axis mn axis=1 dia hai)"
   ]
  },
  {
   "cell_type": "code",
   "execution_count": 11,
   "id": "4a09563d",
   "metadata": {},
   "outputs": [
    {
     "data": {
      "text/html": [
       "<div>\n",
       "<style scoped>\n",
       "    .dataframe tbody tr th:only-of-type {\n",
       "        vertical-align: middle;\n",
       "    }\n",
       "\n",
       "    .dataframe tbody tr th {\n",
       "        vertical-align: top;\n",
       "    }\n",
       "\n",
       "    .dataframe thead th {\n",
       "        text-align: right;\n",
       "    }\n",
       "</style>\n",
       "<table border=\"1\" class=\"dataframe\">\n",
       "  <thead>\n",
       "    <tr style=\"text-align: right;\">\n",
       "      <th></th>\n",
       "      <th>A</th>\n",
       "    </tr>\n",
       "  </thead>\n",
       "  <tbody>\n",
       "    <tr>\n",
       "      <th>0</th>\n",
       "      <td>1</td>\n",
       "    </tr>\n",
       "    <tr>\n",
       "      <th>1</th>\n",
       "      <td>2</td>\n",
       "    </tr>\n",
       "    <tr>\n",
       "      <th>2</th>\n",
       "      <td>3</td>\n",
       "    </tr>\n",
       "    <tr>\n",
       "      <th>3</th>\n",
       "      <td>4</td>\n",
       "    </tr>\n",
       "    <tr>\n",
       "      <th>0</th>\n",
       "      <td>1</td>\n",
       "    </tr>\n",
       "    <tr>\n",
       "      <th>1</th>\n",
       "      <td>25</td>\n",
       "    </tr>\n",
       "  </tbody>\n",
       "</table>\n",
       "</div>"
      ],
      "text/plain": [
       "    A\n",
       "0   1\n",
       "1   2\n",
       "2   3\n",
       "3   4\n",
       "0   1\n",
       "1  25"
      ]
     },
     "execution_count": 11,
     "metadata": {},
     "output_type": "execute_result"
    }
   ],
   "source": [
    "v1=pd.DataFrame({\"A\":[1,2,3,4],\"B\":[11,12,13,14]})\n",
    "\n",
    "v2=pd.DataFrame({\"A\":[1,25],\"C\":[22,55]}) \n",
    "\n",
    "pd.concat([v1,v2],join=\"inner\")  !Note(yahan hm join ki value inner ya outer dyskty hn .... inner union k liye r outer\n",
    "                                      intersection k liye hai)"
   ]
  },
  {
   "cell_type": "code",
   "execution_count": 13,
   "id": "691de5f7",
   "metadata": {},
   "outputs": [
    {
     "data": {
      "text/html": [
       "<div>\n",
       "<style scoped>\n",
       "    .dataframe tbody tr th:only-of-type {\n",
       "        vertical-align: middle;\n",
       "    }\n",
       "\n",
       "    .dataframe tbody tr th {\n",
       "        vertical-align: top;\n",
       "    }\n",
       "\n",
       "    .dataframe thead tr th {\n",
       "        text-align: left;\n",
       "    }\n",
       "</style>\n",
       "<table border=\"1\" class=\"dataframe\">\n",
       "  <thead>\n",
       "    <tr>\n",
       "      <th></th>\n",
       "      <th colspan=\"2\" halign=\"left\">v1</th>\n",
       "      <th colspan=\"2\" halign=\"left\">v2</th>\n",
       "    </tr>\n",
       "    <tr>\n",
       "      <th></th>\n",
       "      <th>A</th>\n",
       "      <th>B</th>\n",
       "      <th>A</th>\n",
       "      <th>C</th>\n",
       "    </tr>\n",
       "  </thead>\n",
       "  <tbody>\n",
       "    <tr>\n",
       "      <th>0</th>\n",
       "      <td>1</td>\n",
       "      <td>11</td>\n",
       "      <td>1</td>\n",
       "      <td>22</td>\n",
       "    </tr>\n",
       "    <tr>\n",
       "      <th>1</th>\n",
       "      <td>2</td>\n",
       "      <td>12</td>\n",
       "      <td>2</td>\n",
       "      <td>33</td>\n",
       "    </tr>\n",
       "    <tr>\n",
       "      <th>2</th>\n",
       "      <td>3</td>\n",
       "      <td>13</td>\n",
       "      <td>3</td>\n",
       "      <td>44</td>\n",
       "    </tr>\n",
       "    <tr>\n",
       "      <th>3</th>\n",
       "      <td>4</td>\n",
       "      <td>14</td>\n",
       "      <td>5</td>\n",
       "      <td>55</td>\n",
       "    </tr>\n",
       "  </tbody>\n",
       "</table>\n",
       "</div>"
      ],
      "text/plain": [
       "  v1     v2    \n",
       "   A   B  A   C\n",
       "0  1  11  1  22\n",
       "1  2  12  2  33\n",
       "2  3  13  3  44\n",
       "3  4  14  5  55"
      ]
     },
     "execution_count": 13,
     "metadata": {},
     "output_type": "execute_result"
    }
   ],
   "source": [
    "v1=pd.DataFrame({\"A\":[1,2,3,4],\"B\":[11,12,13,14]})\n",
    "\n",
    "v2=pd.DataFrame({\"A\":[1,2,3,5],\"C\":[22,33,44,55]}) \n",
    "\n",
    "pd.concat([v1,v2],axis=1,keys=[\"v1\",\"v2\"]) "
   ]
  },
  {
   "cell_type": "code",
   "execution_count": 14,
   "id": "f9d9e51d",
   "metadata": {},
   "outputs": [
    {
     "data": {
      "text/html": [
       "<div>\n",
       "<style scoped>\n",
       "    .dataframe tbody tr th:only-of-type {\n",
       "        vertical-align: middle;\n",
       "    }\n",
       "\n",
       "    .dataframe tbody tr th {\n",
       "        vertical-align: top;\n",
       "    }\n",
       "\n",
       "    .dataframe thead th {\n",
       "        text-align: right;\n",
       "    }\n",
       "</style>\n",
       "<table border=\"1\" class=\"dataframe\">\n",
       "  <thead>\n",
       "    <tr style=\"text-align: right;\">\n",
       "      <th></th>\n",
       "      <th></th>\n",
       "      <th>A</th>\n",
       "      <th>B</th>\n",
       "      <th>C</th>\n",
       "    </tr>\n",
       "  </thead>\n",
       "  <tbody>\n",
       "    <tr>\n",
       "      <th rowspan=\"4\" valign=\"top\">v1</th>\n",
       "      <th>0</th>\n",
       "      <td>1</td>\n",
       "      <td>11.0</td>\n",
       "      <td>NaN</td>\n",
       "    </tr>\n",
       "    <tr>\n",
       "      <th>1</th>\n",
       "      <td>2</td>\n",
       "      <td>12.0</td>\n",
       "      <td>NaN</td>\n",
       "    </tr>\n",
       "    <tr>\n",
       "      <th>2</th>\n",
       "      <td>3</td>\n",
       "      <td>13.0</td>\n",
       "      <td>NaN</td>\n",
       "    </tr>\n",
       "    <tr>\n",
       "      <th>3</th>\n",
       "      <td>4</td>\n",
       "      <td>14.0</td>\n",
       "      <td>NaN</td>\n",
       "    </tr>\n",
       "    <tr>\n",
       "      <th rowspan=\"4\" valign=\"top\">v2</th>\n",
       "      <th>0</th>\n",
       "      <td>1</td>\n",
       "      <td>NaN</td>\n",
       "      <td>22.0</td>\n",
       "    </tr>\n",
       "    <tr>\n",
       "      <th>1</th>\n",
       "      <td>2</td>\n",
       "      <td>NaN</td>\n",
       "      <td>33.0</td>\n",
       "    </tr>\n",
       "    <tr>\n",
       "      <th>2</th>\n",
       "      <td>3</td>\n",
       "      <td>NaN</td>\n",
       "      <td>44.0</td>\n",
       "    </tr>\n",
       "    <tr>\n",
       "      <th>3</th>\n",
       "      <td>5</td>\n",
       "      <td>NaN</td>\n",
       "      <td>55.0</td>\n",
       "    </tr>\n",
       "  </tbody>\n",
       "</table>\n",
       "</div>"
      ],
      "text/plain": [
       "      A     B     C\n",
       "v1 0  1  11.0   NaN\n",
       "   1  2  12.0   NaN\n",
       "   2  3  13.0   NaN\n",
       "   3  4  14.0   NaN\n",
       "v2 0  1   NaN  22.0\n",
       "   1  2   NaN  33.0\n",
       "   2  3   NaN  44.0\n",
       "   3  5   NaN  55.0"
      ]
     },
     "execution_count": 14,
     "metadata": {},
     "output_type": "execute_result"
    }
   ],
   "source": [
    "v1=pd.DataFrame({\"A\":[1,2,3,4],\"B\":[11,12,13,14]})\n",
    "\n",
    "v2=pd.DataFrame({\"A\":[1,2,3,5],\"C\":[22,33,44,55]}) \n",
    "\n",
    "pd.concat([v1,v2],axis=0,keys=[\"v1\",\"v2\"]) "
   ]
  },
  {
   "cell_type": "code",
   "execution_count": 15,
   "id": "666a5671",
   "metadata": {},
   "outputs": [
    {
     "data": {
      "text/html": [
       "<div>\n",
       "<style scoped>\n",
       "    .dataframe tbody tr th:only-of-type {\n",
       "        vertical-align: middle;\n",
       "    }\n",
       "\n",
       "    .dataframe tbody tr th {\n",
       "        vertical-align: top;\n",
       "    }\n",
       "\n",
       "    .dataframe thead th {\n",
       "        text-align: right;\n",
       "    }\n",
       "</style>\n",
       "<table border=\"1\" class=\"dataframe\">\n",
       "  <thead>\n",
       "    <tr style=\"text-align: right;\">\n",
       "      <th></th>\n",
       "      <th>A</th>\n",
       "      <th>C</th>\n",
       "    </tr>\n",
       "  </thead>\n",
       "  <tbody>\n",
       "    <tr>\n",
       "      <th>0</th>\n",
       "      <td>1</td>\n",
       "      <td>NaN</td>\n",
       "    </tr>\n",
       "    <tr>\n",
       "      <th>1</th>\n",
       "      <td>2</td>\n",
       "      <td>NaN</td>\n",
       "    </tr>\n",
       "    <tr>\n",
       "      <th>2</th>\n",
       "      <td>3</td>\n",
       "      <td>NaN</td>\n",
       "    </tr>\n",
       "    <tr>\n",
       "      <th>3</th>\n",
       "      <td>4</td>\n",
       "      <td>NaN</td>\n",
       "    </tr>\n",
       "    <tr>\n",
       "      <th>0</th>\n",
       "      <td>1</td>\n",
       "      <td>22.0</td>\n",
       "    </tr>\n",
       "    <tr>\n",
       "      <th>1</th>\n",
       "      <td>2</td>\n",
       "      <td>33.0</td>\n",
       "    </tr>\n",
       "    <tr>\n",
       "      <th>2</th>\n",
       "      <td>3</td>\n",
       "      <td>44.0</td>\n",
       "    </tr>\n",
       "    <tr>\n",
       "      <th>3</th>\n",
       "      <td>5</td>\n",
       "      <td>55.0</td>\n",
       "    </tr>\n",
       "  </tbody>\n",
       "</table>\n",
       "</div>"
      ],
      "text/plain": [
       "   A     C\n",
       "0  1   NaN\n",
       "1  2   NaN\n",
       "2  3   NaN\n",
       "3  4   NaN\n",
       "0  1  22.0\n",
       "1  2  33.0\n",
       "2  3  44.0\n",
       "3  5  55.0"
      ]
     },
     "execution_count": 15,
     "metadata": {},
     "output_type": "execute_result"
    }
   ],
   "source": [
    "v1=pd.DataFrame({\"A\":[1,2,3,4]})\n",
    "\n",
    "v2=pd.DataFrame({\"A\":[1,2,3,5],\"C\":[22,33,44,55]}) \n",
    "\n",
    "pd.concat([v1,v2]) "
   ]
  },
  {
   "cell_type": "markdown",
   "id": "5f1ad7dc",
   "metadata": {},
   "source": [
    "# Group by in python Pandas"
   ]
  },
  {
   "cell_type": "markdown",
   "id": "580a6945",
   "metadata": {},
   "source": [
    "* mtlb k agr hm ny apni csv ya excel file mn koi b data randomly idr odr bkheer rkha hai to usko kesy sequence wise arranhe krna\n",
    "  hai to usko hm iss mn dekhy gy.\n",
    "* aik trhan se ye sequance mn sort sa kr raha h hmara data"
   ]
  },
  {
   "cell_type": "markdown",
   "id": "b2e10b91",
   "metadata": {},
   "source": [
    "### GroupBy"
   ]
  },
  {
   "cell_type": "code",
   "execution_count": 17,
   "id": "0a902fd3",
   "metadata": {},
   "outputs": [
    {
     "data": {
      "text/html": [
       "<div>\n",
       "<style scoped>\n",
       "    .dataframe tbody tr th:only-of-type {\n",
       "        vertical-align: middle;\n",
       "    }\n",
       "\n",
       "    .dataframe tbody tr th {\n",
       "        vertical-align: top;\n",
       "    }\n",
       "\n",
       "    .dataframe thead th {\n",
       "        text-align: right;\n",
       "    }\n",
       "</style>\n",
       "<table border=\"1\" class=\"dataframe\">\n",
       "  <thead>\n",
       "    <tr style=\"text-align: right;\">\n",
       "      <th></th>\n",
       "      <th>Name</th>\n",
       "      <th>Sub_1</th>\n",
       "      <th>Sub_2</th>\n",
       "    </tr>\n",
       "  </thead>\n",
       "  <tbody>\n",
       "    <tr>\n",
       "      <th>0</th>\n",
       "      <td>a</td>\n",
       "      <td>11</td>\n",
       "      <td>11</td>\n",
       "    </tr>\n",
       "    <tr>\n",
       "      <th>1</th>\n",
       "      <td>b</td>\n",
       "      <td>12</td>\n",
       "      <td>12</td>\n",
       "    </tr>\n",
       "    <tr>\n",
       "      <th>2</th>\n",
       "      <td>c</td>\n",
       "      <td>13</td>\n",
       "      <td>13</td>\n",
       "    </tr>\n",
       "    <tr>\n",
       "      <th>3</th>\n",
       "      <td>b</td>\n",
       "      <td>14</td>\n",
       "      <td>14</td>\n",
       "    </tr>\n",
       "    <tr>\n",
       "      <th>4</th>\n",
       "      <td>d</td>\n",
       "      <td>15</td>\n",
       "      <td>15</td>\n",
       "    </tr>\n",
       "    <tr>\n",
       "      <th>5</th>\n",
       "      <td>a</td>\n",
       "      <td>16</td>\n",
       "      <td>16</td>\n",
       "    </tr>\n",
       "    <tr>\n",
       "      <th>6</th>\n",
       "      <td>b</td>\n",
       "      <td>17</td>\n",
       "      <td>17</td>\n",
       "    </tr>\n",
       "    <tr>\n",
       "      <th>7</th>\n",
       "      <td>a</td>\n",
       "      <td>18</td>\n",
       "      <td>18</td>\n",
       "    </tr>\n",
       "    <tr>\n",
       "      <th>8</th>\n",
       "      <td>c</td>\n",
       "      <td>19</td>\n",
       "      <td>19</td>\n",
       "    </tr>\n",
       "  </tbody>\n",
       "</table>\n",
       "</div>"
      ],
      "text/plain": [
       "  Name  Sub_1  Sub_2\n",
       "0    a     11     11\n",
       "1    b     12     12\n",
       "2    c     13     13\n",
       "3    b     14     14\n",
       "4    d     15     15\n",
       "5    a     16     16\n",
       "6    b     17     17\n",
       "7    a     18     18\n",
       "8    c     19     19"
      ]
     },
     "execution_count": 17,
     "metadata": {},
     "output_type": "execute_result"
    }
   ],
   "source": [
    "var=pd.DataFrame({\"Name\":[\"a\",\"b\",\"c\",\"b\",\"d\",\"a\",\"b\",\"a\",\"c\"],\n",
    "                 \"Sub_1\":[11,12,13,14,15,16,17,18,19],\n",
    "                 \"Sub_2\":[11,12,13,14,15,16,17,18,19]})\n",
    "var"
   ]
  },
  {
   "cell_type": "code",
   "execution_count": 21,
   "id": "b8cd302a",
   "metadata": {},
   "outputs": [
    {
     "name": "stdout",
     "output_type": "stream",
     "text": [
      "a\n",
      "  Name  Sub_1  Sub_2\n",
      "0    a     11     11\n",
      "5    a     16     16\n",
      "7    a     18     18\n",
      "b\n",
      "  Name  Sub_1  Sub_2\n",
      "1    b     12     12\n",
      "3    b     14     14\n",
      "6    b     17     17\n",
      "c\n",
      "  Name  Sub_1  Sub_2\n",
      "2    c     13     13\n",
      "8    c     19     19\n",
      "d\n",
      "  Name  Sub_1  Sub_2\n",
      "4    d     15     15\n"
     ]
    }
   ],
   "source": [
    "var_new=var.groupby(\"Name\")\n",
    "\n",
    "for x,y in var_new:\n",
    "    print(x)\n",
    "    print(y)"
   ]
  },
  {
   "cell_type": "code",
   "execution_count": 22,
   "id": "32766422",
   "metadata": {},
   "outputs": [
    {
     "data": {
      "text/html": [
       "<div>\n",
       "<style scoped>\n",
       "    .dataframe tbody tr th:only-of-type {\n",
       "        vertical-align: middle;\n",
       "    }\n",
       "\n",
       "    .dataframe tbody tr th {\n",
       "        vertical-align: top;\n",
       "    }\n",
       "\n",
       "    .dataframe thead th {\n",
       "        text-align: right;\n",
       "    }\n",
       "</style>\n",
       "<table border=\"1\" class=\"dataframe\">\n",
       "  <thead>\n",
       "    <tr style=\"text-align: right;\">\n",
       "      <th></th>\n",
       "      <th>Name</th>\n",
       "      <th>Sub_1</th>\n",
       "      <th>Sub_2</th>\n",
       "    </tr>\n",
       "  </thead>\n",
       "  <tbody>\n",
       "    <tr>\n",
       "      <th>0</th>\n",
       "      <td>a</td>\n",
       "      <td>11</td>\n",
       "      <td>11</td>\n",
       "    </tr>\n",
       "    <tr>\n",
       "      <th>5</th>\n",
       "      <td>a</td>\n",
       "      <td>16</td>\n",
       "      <td>16</td>\n",
       "    </tr>\n",
       "    <tr>\n",
       "      <th>7</th>\n",
       "      <td>a</td>\n",
       "      <td>18</td>\n",
       "      <td>18</td>\n",
       "    </tr>\n",
       "  </tbody>\n",
       "</table>\n",
       "</div>"
      ],
      "text/plain": [
       "  Name  Sub_1  Sub_2\n",
       "0    a     11     11\n",
       "5    a     16     16\n",
       "7    a     18     18"
      ]
     },
     "execution_count": 22,
     "metadata": {},
     "output_type": "execute_result"
    }
   ],
   "source": [
    "var_new.get_group(\"a\")  !Note (ye method use kia hai kisi bhi aik specific group ka data fetch krny k liye)"
   ]
  },
  {
   "cell_type": "code",
   "execution_count": 23,
   "id": "140fd875",
   "metadata": {},
   "outputs": [
    {
     "data": {
      "text/html": [
       "<div>\n",
       "<style scoped>\n",
       "    .dataframe tbody tr th:only-of-type {\n",
       "        vertical-align: middle;\n",
       "    }\n",
       "\n",
       "    .dataframe tbody tr th {\n",
       "        vertical-align: top;\n",
       "    }\n",
       "\n",
       "    .dataframe thead th {\n",
       "        text-align: right;\n",
       "    }\n",
       "</style>\n",
       "<table border=\"1\" class=\"dataframe\">\n",
       "  <thead>\n",
       "    <tr style=\"text-align: right;\">\n",
       "      <th></th>\n",
       "      <th>Sub_1</th>\n",
       "      <th>Sub_2</th>\n",
       "    </tr>\n",
       "    <tr>\n",
       "      <th>Name</th>\n",
       "      <th></th>\n",
       "      <th></th>\n",
       "    </tr>\n",
       "  </thead>\n",
       "  <tbody>\n",
       "    <tr>\n",
       "      <th>a</th>\n",
       "      <td>11</td>\n",
       "      <td>11</td>\n",
       "    </tr>\n",
       "    <tr>\n",
       "      <th>b</th>\n",
       "      <td>12</td>\n",
       "      <td>12</td>\n",
       "    </tr>\n",
       "    <tr>\n",
       "      <th>c</th>\n",
       "      <td>13</td>\n",
       "      <td>13</td>\n",
       "    </tr>\n",
       "    <tr>\n",
       "      <th>d</th>\n",
       "      <td>15</td>\n",
       "      <td>15</td>\n",
       "    </tr>\n",
       "  </tbody>\n",
       "</table>\n",
       "</div>"
      ],
      "text/plain": [
       "      Sub_1  Sub_2\n",
       "Name              \n",
       "a        11     11\n",
       "b        12     12\n",
       "c        13     13\n",
       "d        15     15"
      ]
     },
     "execution_count": 23,
     "metadata": {},
     "output_type": "execute_result"
    }
   ],
   "source": [
    "var_new.min()"
   ]
  },
  {
   "cell_type": "code",
   "execution_count": 24,
   "id": "385b1299",
   "metadata": {},
   "outputs": [
    {
     "data": {
      "text/html": [
       "<div>\n",
       "<style scoped>\n",
       "    .dataframe tbody tr th:only-of-type {\n",
       "        vertical-align: middle;\n",
       "    }\n",
       "\n",
       "    .dataframe tbody tr th {\n",
       "        vertical-align: top;\n",
       "    }\n",
       "\n",
       "    .dataframe thead th {\n",
       "        text-align: right;\n",
       "    }\n",
       "</style>\n",
       "<table border=\"1\" class=\"dataframe\">\n",
       "  <thead>\n",
       "    <tr style=\"text-align: right;\">\n",
       "      <th></th>\n",
       "      <th>Sub_1</th>\n",
       "      <th>Sub_2</th>\n",
       "    </tr>\n",
       "    <tr>\n",
       "      <th>Name</th>\n",
       "      <th></th>\n",
       "      <th></th>\n",
       "    </tr>\n",
       "  </thead>\n",
       "  <tbody>\n",
       "    <tr>\n",
       "      <th>a</th>\n",
       "      <td>18</td>\n",
       "      <td>18</td>\n",
       "    </tr>\n",
       "    <tr>\n",
       "      <th>b</th>\n",
       "      <td>17</td>\n",
       "      <td>17</td>\n",
       "    </tr>\n",
       "    <tr>\n",
       "      <th>c</th>\n",
       "      <td>19</td>\n",
       "      <td>19</td>\n",
       "    </tr>\n",
       "    <tr>\n",
       "      <th>d</th>\n",
       "      <td>15</td>\n",
       "      <td>15</td>\n",
       "    </tr>\n",
       "  </tbody>\n",
       "</table>\n",
       "</div>"
      ],
      "text/plain": [
       "      Sub_1  Sub_2\n",
       "Name              \n",
       "a        18     18\n",
       "b        17     17\n",
       "c        19     19\n",
       "d        15     15"
      ]
     },
     "execution_count": 24,
     "metadata": {},
     "output_type": "execute_result"
    }
   ],
   "source": [
    "var_new.max()"
   ]
  },
  {
   "cell_type": "code",
   "execution_count": 25,
   "id": "2a3f302d",
   "metadata": {},
   "outputs": [
    {
     "data": {
      "text/html": [
       "<div>\n",
       "<style scoped>\n",
       "    .dataframe tbody tr th:only-of-type {\n",
       "        vertical-align: middle;\n",
       "    }\n",
       "\n",
       "    .dataframe tbody tr th {\n",
       "        vertical-align: top;\n",
       "    }\n",
       "\n",
       "    .dataframe thead th {\n",
       "        text-align: right;\n",
       "    }\n",
       "</style>\n",
       "<table border=\"1\" class=\"dataframe\">\n",
       "  <thead>\n",
       "    <tr style=\"text-align: right;\">\n",
       "      <th></th>\n",
       "      <th>Sub_1</th>\n",
       "      <th>Sub_2</th>\n",
       "    </tr>\n",
       "    <tr>\n",
       "      <th>Name</th>\n",
       "      <th></th>\n",
       "      <th></th>\n",
       "    </tr>\n",
       "  </thead>\n",
       "  <tbody>\n",
       "    <tr>\n",
       "      <th>a</th>\n",
       "      <td>15.000000</td>\n",
       "      <td>15.000000</td>\n",
       "    </tr>\n",
       "    <tr>\n",
       "      <th>b</th>\n",
       "      <td>14.333333</td>\n",
       "      <td>14.333333</td>\n",
       "    </tr>\n",
       "    <tr>\n",
       "      <th>c</th>\n",
       "      <td>16.000000</td>\n",
       "      <td>16.000000</td>\n",
       "    </tr>\n",
       "    <tr>\n",
       "      <th>d</th>\n",
       "      <td>15.000000</td>\n",
       "      <td>15.000000</td>\n",
       "    </tr>\n",
       "  </tbody>\n",
       "</table>\n",
       "</div>"
      ],
      "text/plain": [
       "          Sub_1      Sub_2\n",
       "Name                      \n",
       "a     15.000000  15.000000\n",
       "b     14.333333  14.333333\n",
       "c     16.000000  16.000000\n",
       "d     15.000000  15.000000"
      ]
     },
     "execution_count": 25,
     "metadata": {},
     "output_type": "execute_result"
    }
   ],
   "source": [
    "var_new.mean()"
   ]
  },
  {
   "cell_type": "code",
   "execution_count": 26,
   "id": "450e2433",
   "metadata": {},
   "outputs": [
    {
     "data": {
      "text/plain": [
       "[('a',\n",
       "    Name  Sub_1  Sub_2\n",
       "  0    a     11     11\n",
       "  5    a     16     16\n",
       "  7    a     18     18),\n",
       " ('b',\n",
       "    Name  Sub_1  Sub_2\n",
       "  1    b     12     12\n",
       "  3    b     14     14\n",
       "  6    b     17     17),\n",
       " ('c',\n",
       "    Name  Sub_1  Sub_2\n",
       "  2    c     13     13\n",
       "  8    c     19     19),\n",
       " ('d',\n",
       "    Name  Sub_1  Sub_2\n",
       "  4    d     15     15)]"
      ]
     },
     "execution_count": 26,
     "metadata": {},
     "output_type": "execute_result"
    }
   ],
   "source": [
    "li=list(var_new)\n",
    "li"
   ]
  },
  {
   "cell_type": "markdown",
   "id": "71646319",
   "metadata": {},
   "source": [
    "# Join and Append DataFrames |"
   ]
  },
  {
   "cell_type": "markdown",
   "id": "b93b1cde",
   "metadata": {},
   "source": [
    "### Join"
   ]
  },
  {
   "cell_type": "code",
   "execution_count": 2,
   "id": "47de9b4c",
   "metadata": {},
   "outputs": [
    {
     "data": {
      "text/html": [
       "<div>\n",
       "<style scoped>\n",
       "    .dataframe tbody tr th:only-of-type {\n",
       "        vertical-align: middle;\n",
       "    }\n",
       "\n",
       "    .dataframe tbody tr th {\n",
       "        vertical-align: top;\n",
       "    }\n",
       "\n",
       "    .dataframe thead th {\n",
       "        text-align: right;\n",
       "    }\n",
       "</style>\n",
       "<table border=\"1\" class=\"dataframe\">\n",
       "  <thead>\n",
       "    <tr style=\"text-align: right;\">\n",
       "      <th></th>\n",
       "      <th>A</th>\n",
       "      <th>B</th>\n",
       "      <th>C</th>\n",
       "      <th>D</th>\n",
       "    </tr>\n",
       "  </thead>\n",
       "  <tbody>\n",
       "    <tr>\n",
       "      <th>0</th>\n",
       "      <td>1</td>\n",
       "      <td>11</td>\n",
       "      <td>10</td>\n",
       "      <td>11</td>\n",
       "    </tr>\n",
       "    <tr>\n",
       "      <th>1</th>\n",
       "      <td>2</td>\n",
       "      <td>12</td>\n",
       "      <td>20</td>\n",
       "      <td>22</td>\n",
       "    </tr>\n",
       "    <tr>\n",
       "      <th>2</th>\n",
       "      <td>3</td>\n",
       "      <td>13</td>\n",
       "      <td>30</td>\n",
       "      <td>33</td>\n",
       "    </tr>\n",
       "    <tr>\n",
       "      <th>3</th>\n",
       "      <td>4</td>\n",
       "      <td>14</td>\n",
       "      <td>40</td>\n",
       "      <td>44</td>\n",
       "    </tr>\n",
       "  </tbody>\n",
       "</table>\n",
       "</div>"
      ],
      "text/plain": [
       "   A   B   C   D\n",
       "0  1  11  10  11\n",
       "1  2  12  20  22\n",
       "2  3  13  30  33\n",
       "3  4  14  40  44"
      ]
     },
     "execution_count": 2,
     "metadata": {},
     "output_type": "execute_result"
    }
   ],
   "source": [
    "import pandas as pd\n",
    "\n",
    "var1 = pd.DataFrame({\"A\":[1,2,3,4],\"B\":[11,12,13,14]})\n",
    "var2 = pd.DataFrame({\"C\":[10,20,30,40],\"D\":[11,22,33,44]})\n",
    "\n",
    "var1.join(var2)"
   ]
  },
  {
   "cell_type": "code",
   "execution_count": 3,
   "id": "77c7512c",
   "metadata": {},
   "outputs": [
    {
     "data": {
      "text/html": [
       "<div>\n",
       "<style scoped>\n",
       "    .dataframe tbody tr th:only-of-type {\n",
       "        vertical-align: middle;\n",
       "    }\n",
       "\n",
       "    .dataframe tbody tr th {\n",
       "        vertical-align: top;\n",
       "    }\n",
       "\n",
       "    .dataframe thead th {\n",
       "        text-align: right;\n",
       "    }\n",
       "</style>\n",
       "<table border=\"1\" class=\"dataframe\">\n",
       "  <thead>\n",
       "    <tr style=\"text-align: right;\">\n",
       "      <th></th>\n",
       "      <th>A</th>\n",
       "      <th>B</th>\n",
       "      <th>C</th>\n",
       "      <th>D</th>\n",
       "    </tr>\n",
       "  </thead>\n",
       "  <tbody>\n",
       "    <tr>\n",
       "      <th>0</th>\n",
       "      <td>1</td>\n",
       "      <td>11</td>\n",
       "      <td>10.0</td>\n",
       "      <td>11.0</td>\n",
       "    </tr>\n",
       "    <tr>\n",
       "      <th>1</th>\n",
       "      <td>2</td>\n",
       "      <td>12</td>\n",
       "      <td>20.0</td>\n",
       "      <td>22.0</td>\n",
       "    </tr>\n",
       "    <tr>\n",
       "      <th>2</th>\n",
       "      <td>3</td>\n",
       "      <td>13</td>\n",
       "      <td>NaN</td>\n",
       "      <td>NaN</td>\n",
       "    </tr>\n",
       "    <tr>\n",
       "      <th>3</th>\n",
       "      <td>4</td>\n",
       "      <td>14</td>\n",
       "      <td>NaN</td>\n",
       "      <td>NaN</td>\n",
       "    </tr>\n",
       "  </tbody>\n",
       "</table>\n",
       "</div>"
      ],
      "text/plain": [
       "   A   B     C     D\n",
       "0  1  11  10.0  11.0\n",
       "1  2  12  20.0  22.0\n",
       "2  3  13   NaN   NaN\n",
       "3  4  14   NaN   NaN"
      ]
     },
     "execution_count": 3,
     "metadata": {},
     "output_type": "execute_result"
    }
   ],
   "source": [
    "import pandas as pd\n",
    "\n",
    "var1 = pd.DataFrame({\"A\":[1,2,3,4],\"B\":[11,12,13,14]})\n",
    "var2 = pd.DataFrame({\"C\":[10,20],\"D\":[11,22]})  !Note (it also works for unmatch data)\n",
    "\n",
    "var1.join(var2)"
   ]
  },
  {
   "cell_type": "code",
   "execution_count": 7,
   "id": "321bbd56",
   "metadata": {},
   "outputs": [
    {
     "data": {
      "text/html": [
       "<div>\n",
       "<style scoped>\n",
       "    .dataframe tbody tr th:only-of-type {\n",
       "        vertical-align: middle;\n",
       "    }\n",
       "\n",
       "    .dataframe tbody tr th {\n",
       "        vertical-align: top;\n",
       "    }\n",
       "\n",
       "    .dataframe thead th {\n",
       "        text-align: right;\n",
       "    }\n",
       "</style>\n",
       "<table border=\"1\" class=\"dataframe\">\n",
       "  <thead>\n",
       "    <tr style=\"text-align: right;\">\n",
       "      <th></th>\n",
       "      <th>A</th>\n",
       "      <th>B</th>\n",
       "      <th>C</th>\n",
       "      <th>D</th>\n",
       "    </tr>\n",
       "  </thead>\n",
       "  <tbody>\n",
       "    <tr>\n",
       "      <th>a</th>\n",
       "      <td>1</td>\n",
       "      <td>11</td>\n",
       "      <td>10.0</td>\n",
       "      <td>11.0</td>\n",
       "    </tr>\n",
       "    <tr>\n",
       "      <th>b</th>\n",
       "      <td>2</td>\n",
       "      <td>12</td>\n",
       "      <td>20.0</td>\n",
       "      <td>22.0</td>\n",
       "    </tr>\n",
       "    <tr>\n",
       "      <th>c</th>\n",
       "      <td>3</td>\n",
       "      <td>13</td>\n",
       "      <td>NaN</td>\n",
       "      <td>NaN</td>\n",
       "    </tr>\n",
       "    <tr>\n",
       "      <th>d</th>\n",
       "      <td>4</td>\n",
       "      <td>14</td>\n",
       "      <td>NaN</td>\n",
       "      <td>NaN</td>\n",
       "    </tr>\n",
       "  </tbody>\n",
       "</table>\n",
       "</div>"
      ],
      "text/plain": [
       "   A   B     C     D\n",
       "a  1  11  10.0  11.0\n",
       "b  2  12  20.0  22.0\n",
       "c  3  13   NaN   NaN\n",
       "d  4  14   NaN   NaN"
      ]
     },
     "execution_count": 7,
     "metadata": {},
     "output_type": "execute_result"
    }
   ],
   "source": [
    "import pandas as pd\n",
    "\n",
    "var1 = pd.DataFrame({\"A\":[1,2,3,4],\"B\":[11,12,13,14]},index=[\"a\",\"b\",\"c\",\"d\"])\n",
    "var2 = pd.DataFrame({\"C\":[10,20],\"D\":[11,22]},index=[\"a\",\"b\"])  \n",
    "!Note (we also give indexes)\n",
    "var1.join(var2)"
   ]
  },
  {
   "cell_type": "code",
   "execution_count": 8,
   "id": "8be45507",
   "metadata": {},
   "outputs": [
    {
     "data": {
      "text/html": [
       "<div>\n",
       "<style scoped>\n",
       "    .dataframe tbody tr th:only-of-type {\n",
       "        vertical-align: middle;\n",
       "    }\n",
       "\n",
       "    .dataframe tbody tr th {\n",
       "        vertical-align: top;\n",
       "    }\n",
       "\n",
       "    .dataframe thead th {\n",
       "        text-align: right;\n",
       "    }\n",
       "</style>\n",
       "<table border=\"1\" class=\"dataframe\">\n",
       "  <thead>\n",
       "    <tr style=\"text-align: right;\">\n",
       "      <th></th>\n",
       "      <th>C</th>\n",
       "      <th>D</th>\n",
       "      <th>A</th>\n",
       "      <th>B</th>\n",
       "    </tr>\n",
       "  </thead>\n",
       "  <tbody>\n",
       "    <tr>\n",
       "      <th>a</th>\n",
       "      <td>10.0</td>\n",
       "      <td>11.0</td>\n",
       "      <td>1</td>\n",
       "      <td>11</td>\n",
       "    </tr>\n",
       "    <tr>\n",
       "      <th>b</th>\n",
       "      <td>20.0</td>\n",
       "      <td>22.0</td>\n",
       "      <td>2</td>\n",
       "      <td>12</td>\n",
       "    </tr>\n",
       "    <tr>\n",
       "      <th>c</th>\n",
       "      <td>NaN</td>\n",
       "      <td>NaN</td>\n",
       "      <td>3</td>\n",
       "      <td>13</td>\n",
       "    </tr>\n",
       "    <tr>\n",
       "      <th>d</th>\n",
       "      <td>NaN</td>\n",
       "      <td>NaN</td>\n",
       "      <td>4</td>\n",
       "      <td>14</td>\n",
       "    </tr>\n",
       "  </tbody>\n",
       "</table>\n",
       "</div>"
      ],
      "text/plain": [
       "      C     D  A   B\n",
       "a  10.0  11.0  1  11\n",
       "b  20.0  22.0  2  12\n",
       "c   NaN   NaN  3  13\n",
       "d   NaN   NaN  4  14"
      ]
     },
     "execution_count": 8,
     "metadata": {},
     "output_type": "execute_result"
    }
   ],
   "source": [
    "var1 = pd.DataFrame({\"A\":[1,2,3,4],\"B\":[11,12,13,14]},index=[\"a\",\"b\",\"c\",\"d\"])\n",
    "var2 = pd.DataFrame({\"C\":[10,20],\"D\":[11,22]},index=[\"a\",\"b\"])  \n",
    "\n",
    "var2.join(var1,how=\"right\")"
   ]
  },
  {
   "cell_type": "code",
   "execution_count": 9,
   "id": "3f1e6225",
   "metadata": {},
   "outputs": [
    {
     "data": {
      "text/html": [
       "<div>\n",
       "<style scoped>\n",
       "    .dataframe tbody tr th:only-of-type {\n",
       "        vertical-align: middle;\n",
       "    }\n",
       "\n",
       "    .dataframe tbody tr th {\n",
       "        vertical-align: top;\n",
       "    }\n",
       "\n",
       "    .dataframe thead th {\n",
       "        text-align: right;\n",
       "    }\n",
       "</style>\n",
       "<table border=\"1\" class=\"dataframe\">\n",
       "  <thead>\n",
       "    <tr style=\"text-align: right;\">\n",
       "      <th></th>\n",
       "      <th>C</th>\n",
       "      <th>D</th>\n",
       "      <th>A</th>\n",
       "      <th>B</th>\n",
       "    </tr>\n",
       "  </thead>\n",
       "  <tbody>\n",
       "    <tr>\n",
       "      <th>a</th>\n",
       "      <td>10</td>\n",
       "      <td>11</td>\n",
       "      <td>1</td>\n",
       "      <td>11</td>\n",
       "    </tr>\n",
       "    <tr>\n",
       "      <th>b</th>\n",
       "      <td>20</td>\n",
       "      <td>22</td>\n",
       "      <td>2</td>\n",
       "      <td>12</td>\n",
       "    </tr>\n",
       "  </tbody>\n",
       "</table>\n",
       "</div>"
      ],
      "text/plain": [
       "    C   D  A   B\n",
       "a  10  11  1  11\n",
       "b  20  22  2  12"
      ]
     },
     "execution_count": 9,
     "metadata": {},
     "output_type": "execute_result"
    }
   ],
   "source": [
    "var1 = pd.DataFrame({\"A\":[1,2,3,4],\"B\":[11,12,13,14]},index=[\"a\",\"b\",\"c\",\"d\"])\n",
    "var2 = pd.DataFrame({\"C\":[10,20],\"D\":[11,22]},index=[\"a\",\"b\"])  \n",
    "\n",
    "var2.join(var1,how=\"inner\")"
   ]
  },
  {
   "cell_type": "code",
   "execution_count": 12,
   "id": "3440ea73",
   "metadata": {},
   "outputs": [
    {
     "data": {
      "text/html": [
       "<div>\n",
       "<style scoped>\n",
       "    .dataframe tbody tr th:only-of-type {\n",
       "        vertical-align: middle;\n",
       "    }\n",
       "\n",
       "    .dataframe tbody tr th {\n",
       "        vertical-align: top;\n",
       "    }\n",
       "\n",
       "    .dataframe thead th {\n",
       "        text-align: right;\n",
       "    }\n",
       "</style>\n",
       "<table border=\"1\" class=\"dataframe\">\n",
       "  <thead>\n",
       "    <tr style=\"text-align: right;\">\n",
       "      <th></th>\n",
       "      <th>C</th>\n",
       "      <th>B_12</th>\n",
       "      <th>A</th>\n",
       "      <th>B_13</th>\n",
       "    </tr>\n",
       "  </thead>\n",
       "  <tbody>\n",
       "    <tr>\n",
       "      <th>a</th>\n",
       "      <td>10.0</td>\n",
       "      <td>11.0</td>\n",
       "      <td>1</td>\n",
       "      <td>11</td>\n",
       "    </tr>\n",
       "    <tr>\n",
       "      <th>b</th>\n",
       "      <td>20.0</td>\n",
       "      <td>22.0</td>\n",
       "      <td>2</td>\n",
       "      <td>12</td>\n",
       "    </tr>\n",
       "    <tr>\n",
       "      <th>c</th>\n",
       "      <td>NaN</td>\n",
       "      <td>NaN</td>\n",
       "      <td>3</td>\n",
       "      <td>13</td>\n",
       "    </tr>\n",
       "    <tr>\n",
       "      <th>d</th>\n",
       "      <td>NaN</td>\n",
       "      <td>NaN</td>\n",
       "      <td>4</td>\n",
       "      <td>14</td>\n",
       "    </tr>\n",
       "  </tbody>\n",
       "</table>\n",
       "</div>"
      ],
      "text/plain": [
       "      C  B_12  A  B_13\n",
       "a  10.0  11.0  1    11\n",
       "b  20.0  22.0  2    12\n",
       "c   NaN   NaN  3    13\n",
       "d   NaN   NaN  4    14"
      ]
     },
     "execution_count": 12,
     "metadata": {},
     "output_type": "execute_result"
    }
   ],
   "source": [
    "var1 = pd.DataFrame({\"A\":[1,2,3,4],\"B\":[11,12,13,14]},index=[\"a\",\"b\",\"c\",\"d\"])\n",
    "var2 = pd.DataFrame({\"C\":[10,20],\"B\":[11,22]},index=[\"a\",\"b\"])  \n",
    "!Note we use lsuffix and rsuffix to change the same column names at the run time\n",
    "var2.join(var1,how=\"right\",lsuffix=\"_12\",rsuffix=\"_13\")"
   ]
  },
  {
   "cell_type": "markdown",
   "id": "da006b9e",
   "metadata": {},
   "source": [
    "### Append"
   ]
  },
  {
   "cell_type": "code",
   "execution_count": 16,
   "id": "65d2ac6d",
   "metadata": {},
   "outputs": [
    {
     "ename": "AttributeError",
     "evalue": "'DataFrame' object has no attribute 'append'",
     "output_type": "error",
     "traceback": [
      "\u001b[1;31m---------------------------------------------------------------------------\u001b[0m",
      "\u001b[1;31mAttributeError\u001b[0m                            Traceback (most recent call last)",
      "\u001b[1;32m~\\AppData\\Local\\Temp\\ipykernel_7692\\3180070564.py\u001b[0m in \u001b[0;36m?\u001b[1;34m()\u001b[0m\n\u001b[0;32m      1\u001b[0m \u001b[1;32mimport\u001b[0m \u001b[0mpandas\u001b[0m \u001b[1;32mas\u001b[0m \u001b[0mpd\u001b[0m\u001b[1;33m\u001b[0m\u001b[1;33m\u001b[0m\u001b[0m\n\u001b[0;32m      2\u001b[0m \u001b[0mvar1\u001b[0m \u001b[1;33m=\u001b[0m \u001b[0mpd\u001b[0m\u001b[1;33m.\u001b[0m\u001b[0mDataFrame\u001b[0m\u001b[1;33m(\u001b[0m\u001b[1;33m{\u001b[0m\u001b[1;34m\"A\"\u001b[0m\u001b[1;33m:\u001b[0m\u001b[1;33m[\u001b[0m\u001b[1;36m1\u001b[0m\u001b[1;33m,\u001b[0m\u001b[1;36m2\u001b[0m\u001b[1;33m,\u001b[0m\u001b[1;36m3\u001b[0m\u001b[1;33m,\u001b[0m\u001b[1;36m4\u001b[0m\u001b[1;33m]\u001b[0m\u001b[1;33m,\u001b[0m\u001b[1;34m\"B\"\u001b[0m\u001b[1;33m:\u001b[0m\u001b[1;33m[\u001b[0m\u001b[1;36m11\u001b[0m\u001b[1;33m,\u001b[0m\u001b[1;36m12\u001b[0m\u001b[1;33m,\u001b[0m\u001b[1;36m13\u001b[0m\u001b[1;33m,\u001b[0m\u001b[1;36m14\u001b[0m\u001b[1;33m]\u001b[0m\u001b[1;33m}\u001b[0m\u001b[1;33m,\u001b[0m\u001b[0mindex\u001b[0m\u001b[1;33m=\u001b[0m\u001b[1;33m[\u001b[0m\u001b[1;34m\"a\"\u001b[0m\u001b[1;33m,\u001b[0m\u001b[1;34m\"b\"\u001b[0m\u001b[1;33m,\u001b[0m\u001b[1;34m\"c\"\u001b[0m\u001b[1;33m,\u001b[0m\u001b[1;34m\"d\"\u001b[0m\u001b[1;33m]\u001b[0m\u001b[1;33m)\u001b[0m\u001b[1;33m\u001b[0m\u001b[1;33m\u001b[0m\u001b[0m\n\u001b[0;32m      3\u001b[0m \u001b[0mvar2\u001b[0m \u001b[1;33m=\u001b[0m \u001b[0mpd\u001b[0m\u001b[1;33m.\u001b[0m\u001b[0mDataFrame\u001b[0m\u001b[1;33m(\u001b[0m\u001b[1;33m{\u001b[0m\u001b[1;34m\"C\"\u001b[0m\u001b[1;33m:\u001b[0m\u001b[1;33m[\u001b[0m\u001b[1;36m10\u001b[0m\u001b[1;33m,\u001b[0m\u001b[1;36m20\u001b[0m\u001b[1;33m]\u001b[0m\u001b[1;33m,\u001b[0m\u001b[1;34m\"B\"\u001b[0m\u001b[1;33m:\u001b[0m\u001b[1;33m[\u001b[0m\u001b[1;36m11\u001b[0m\u001b[1;33m,\u001b[0m\u001b[1;36m22\u001b[0m\u001b[1;33m]\u001b[0m\u001b[1;33m}\u001b[0m\u001b[1;33m,\u001b[0m\u001b[0mindex\u001b[0m\u001b[1;33m=\u001b[0m\u001b[1;33m[\u001b[0m\u001b[1;34m\"a\"\u001b[0m\u001b[1;33m,\u001b[0m\u001b[1;34m\"b\"\u001b[0m\u001b[1;33m]\u001b[0m\u001b[1;33m)\u001b[0m\u001b[1;33m\u001b[0m\u001b[1;33m\u001b[0m\u001b[0m\n\u001b[0;32m      4\u001b[0m \u001b[1;33m\u001b[0m\u001b[0m\n\u001b[1;32m----> 5\u001b[1;33m \u001b[0mvar1\u001b[0m\u001b[1;33m.\u001b[0m\u001b[0mappend\u001b[0m\u001b[1;33m(\u001b[0m\u001b[0mvar2\u001b[0m\u001b[1;33m)\u001b[0m\u001b[1;33m\u001b[0m\u001b[1;33m\u001b[0m\u001b[0m\n\u001b[0m",
      "\u001b[1;32m~\\anaconda3\\Lib\\site-packages\\pandas\\core\\generic.py\u001b[0m in \u001b[0;36m?\u001b[1;34m(self, name)\u001b[0m\n\u001b[0;32m   5985\u001b[0m             \u001b[1;32mand\u001b[0m \u001b[0mname\u001b[0m \u001b[1;32mnot\u001b[0m \u001b[1;32min\u001b[0m \u001b[0mself\u001b[0m\u001b[1;33m.\u001b[0m\u001b[0m_accessors\u001b[0m\u001b[1;33m\u001b[0m\u001b[1;33m\u001b[0m\u001b[0m\n\u001b[0;32m   5986\u001b[0m             \u001b[1;32mand\u001b[0m \u001b[0mself\u001b[0m\u001b[1;33m.\u001b[0m\u001b[0m_info_axis\u001b[0m\u001b[1;33m.\u001b[0m\u001b[0m_can_hold_identifiers_and_holds_name\u001b[0m\u001b[1;33m(\u001b[0m\u001b[0mname\u001b[0m\u001b[1;33m)\u001b[0m\u001b[1;33m\u001b[0m\u001b[1;33m\u001b[0m\u001b[0m\n\u001b[0;32m   5987\u001b[0m         ):\n\u001b[0;32m   5988\u001b[0m             \u001b[1;32mreturn\u001b[0m \u001b[0mself\u001b[0m\u001b[1;33m[\u001b[0m\u001b[0mname\u001b[0m\u001b[1;33m]\u001b[0m\u001b[1;33m\u001b[0m\u001b[1;33m\u001b[0m\u001b[0m\n\u001b[1;32m-> 5989\u001b[1;33m         \u001b[1;32mreturn\u001b[0m \u001b[0mobject\u001b[0m\u001b[1;33m.\u001b[0m\u001b[0m__getattribute__\u001b[0m\u001b[1;33m(\u001b[0m\u001b[0mself\u001b[0m\u001b[1;33m,\u001b[0m \u001b[0mname\u001b[0m\u001b[1;33m)\u001b[0m\u001b[1;33m\u001b[0m\u001b[1;33m\u001b[0m\u001b[0m\n\u001b[0m",
      "\u001b[1;31mAttributeError\u001b[0m: 'DataFrame' object has no attribute 'append'"
     ]
    }
   ],
   "source": [
    "import pandas as pd\n",
    "var1 = pd.DataFrame({\"A\":[1,2,3,4],\"B\":[11,12,13,14]},index=[\"a\",\"b\",\"c\",\"d\"])\n",
    "var2 = pd.DataFrame({\"C\":[10,20],\"B\":[11,22]},index=[\"a\",\"b\"])  \n",
    "!Note we can append two same columns without using lsuffix and rsuffix\n",
    "var1.append(var2)"
   ]
  },
  {
   "cell_type": "code",
   "execution_count": null,
   "id": "fa6e8d0e",
   "metadata": {},
   "outputs": [],
   "source": [
    "we can resolve this error like this below"
   ]
  },
  {
   "cell_type": "code",
   "execution_count": 17,
   "id": "f41375ce",
   "metadata": {},
   "outputs": [
    {
     "data": {
      "text/html": [
       "<div>\n",
       "<style scoped>\n",
       "    .dataframe tbody tr th:only-of-type {\n",
       "        vertical-align: middle;\n",
       "    }\n",
       "\n",
       "    .dataframe tbody tr th {\n",
       "        vertical-align: top;\n",
       "    }\n",
       "\n",
       "    .dataframe thead th {\n",
       "        text-align: right;\n",
       "    }\n",
       "</style>\n",
       "<table border=\"1\" class=\"dataframe\">\n",
       "  <thead>\n",
       "    <tr style=\"text-align: right;\">\n",
       "      <th></th>\n",
       "      <th>A</th>\n",
       "      <th>B</th>\n",
       "      <th>C</th>\n",
       "    </tr>\n",
       "  </thead>\n",
       "  <tbody>\n",
       "    <tr>\n",
       "      <th>a</th>\n",
       "      <td>1.0</td>\n",
       "      <td>11</td>\n",
       "      <td>NaN</td>\n",
       "    </tr>\n",
       "    <tr>\n",
       "      <th>b</th>\n",
       "      <td>2.0</td>\n",
       "      <td>12</td>\n",
       "      <td>NaN</td>\n",
       "    </tr>\n",
       "    <tr>\n",
       "      <th>c</th>\n",
       "      <td>3.0</td>\n",
       "      <td>13</td>\n",
       "      <td>NaN</td>\n",
       "    </tr>\n",
       "    <tr>\n",
       "      <th>d</th>\n",
       "      <td>4.0</td>\n",
       "      <td>14</td>\n",
       "      <td>NaN</td>\n",
       "    </tr>\n",
       "    <tr>\n",
       "      <th>a</th>\n",
       "      <td>NaN</td>\n",
       "      <td>11</td>\n",
       "      <td>10.0</td>\n",
       "    </tr>\n",
       "    <tr>\n",
       "      <th>b</th>\n",
       "      <td>NaN</td>\n",
       "      <td>22</td>\n",
       "      <td>20.0</td>\n",
       "    </tr>\n",
       "  </tbody>\n",
       "</table>\n",
       "</div>"
      ],
      "text/plain": [
       "     A   B     C\n",
       "a  1.0  11   NaN\n",
       "b  2.0  12   NaN\n",
       "c  3.0  13   NaN\n",
       "d  4.0  14   NaN\n",
       "a  NaN  11  10.0\n",
       "b  NaN  22  20.0"
      ]
     },
     "execution_count": 17,
     "metadata": {},
     "output_type": "execute_result"
    }
   ],
   "source": [
    "pd.concat([var1,var2])"
   ]
  },
  {
   "cell_type": "code",
   "execution_count": 19,
   "id": "4c7270c3",
   "metadata": {},
   "outputs": [
    {
     "data": {
      "text/html": [
       "<div>\n",
       "<style scoped>\n",
       "    .dataframe tbody tr th:only-of-type {\n",
       "        vertical-align: middle;\n",
       "    }\n",
       "\n",
       "    .dataframe tbody tr th {\n",
       "        vertical-align: top;\n",
       "    }\n",
       "\n",
       "    .dataframe thead th {\n",
       "        text-align: right;\n",
       "    }\n",
       "</style>\n",
       "<table border=\"1\" class=\"dataframe\">\n",
       "  <thead>\n",
       "    <tr style=\"text-align: right;\">\n",
       "      <th></th>\n",
       "      <th>A</th>\n",
       "      <th>B</th>\n",
       "      <th>C</th>\n",
       "    </tr>\n",
       "  </thead>\n",
       "  <tbody>\n",
       "    <tr>\n",
       "      <th>0</th>\n",
       "      <td>1.0</td>\n",
       "      <td>11</td>\n",
       "      <td>NaN</td>\n",
       "    </tr>\n",
       "    <tr>\n",
       "      <th>1</th>\n",
       "      <td>2.0</td>\n",
       "      <td>12</td>\n",
       "      <td>NaN</td>\n",
       "    </tr>\n",
       "    <tr>\n",
       "      <th>2</th>\n",
       "      <td>3.0</td>\n",
       "      <td>13</td>\n",
       "      <td>NaN</td>\n",
       "    </tr>\n",
       "    <tr>\n",
       "      <th>3</th>\n",
       "      <td>4.0</td>\n",
       "      <td>14</td>\n",
       "      <td>NaN</td>\n",
       "    </tr>\n",
       "    <tr>\n",
       "      <th>4</th>\n",
       "      <td>NaN</td>\n",
       "      <td>11</td>\n",
       "      <td>10.0</td>\n",
       "    </tr>\n",
       "    <tr>\n",
       "      <th>5</th>\n",
       "      <td>NaN</td>\n",
       "      <td>22</td>\n",
       "      <td>20.0</td>\n",
       "    </tr>\n",
       "  </tbody>\n",
       "</table>\n",
       "</div>"
      ],
      "text/plain": [
       "     A   B     C\n",
       "0  1.0  11   NaN\n",
       "1  2.0  12   NaN\n",
       "2  3.0  13   NaN\n",
       "3  4.0  14   NaN\n",
       "4  NaN  11  10.0\n",
       "5  NaN  22  20.0"
      ]
     },
     "execution_count": 19,
     "metadata": {},
     "output_type": "execute_result"
    }
   ],
   "source": [
    "pd.concat([var1,var2],ignore_index=True)  !Note (this ignore_index=True is used to ignore the index like in the above line we\n",
    "                                                find index repeatedly so to avoid this we use ignore_index=True )"
   ]
  },
  {
   "cell_type": "code",
   "execution_count": null,
   "id": "08d5ed02",
   "metadata": {},
   "outputs": [],
   "source": []
  }
 ],
 "metadata": {
  "kernelspec": {
   "display_name": "Python 3 (ipykernel)",
   "language": "python",
   "name": "python3"
  },
  "language_info": {
   "codemirror_mode": {
    "name": "ipython",
    "version": 3
   },
   "file_extension": ".py",
   "mimetype": "text/x-python",
   "name": "python",
   "nbconvert_exporter": "python",
   "pygments_lexer": "ipython3",
   "version": "3.11.5"
  }
 },
 "nbformat": 4,
 "nbformat_minor": 5
}
