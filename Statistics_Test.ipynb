{
 "cells": [
  {
   "cell_type": "markdown",
   "id": "539db65e",
   "metadata": {},
   "source": [
    "# 1- Shapiro Wilk Test "
   ]
  },
  {
   "cell_type": "markdown",
   "id": "81919b1a",
   "metadata": {},
   "source": [
    "Tests whether a data sample has a Gaussian Distribution. \n",
    "\n",
    "<b>Assumption<b>\n",
    "    \n",
    "    1. observation in each sample are independent and indentically distributed (iid)\n",
    "    \n",
    "    2. interpretation\n",
    "    \n",
    "    * H0: The sample has a Gaussian Distribution.\n",
    "    * H1: the sample doesn't have a Guassian Distribution / Normal Distribution"
   ]
  },
  {
   "cell_type": "code",
   "execution_count": 1,
   "id": "134b9682",
   "metadata": {},
   "outputs": [
    {
     "name": "stdout",
     "output_type": "stream",
     "text": [
      "stat=0.895, p=0.191\n",
      "probably gaussian\n"
     ]
    }
   ],
   "source": [
    "# Example of Shapiro Wilk Normality Test\n",
    "\n",
    "from scipy.stats import shapiro\n",
    "data = [0.873,2.817,0.121,-0.945,-0.005,-1.436,0.360,-1.478,-1.637,-1.869]\n",
    "stat,p = shapiro(data)\n",
    "print('stat=%.3f, p=%.3f' %(stat,p))\n",
    "# print(\"statistics=\",stat)\n",
    "# print(\"p=\",p)\n",
    "if p>0.05:\n",
    "    print(\"probably gaussian\")\n",
    "else:\n",
    "    print(\"probably not gaussian\")"
   ]
  },
  {
   "cell_type": "code",
   "execution_count": 3,
   "id": "43405a23",
   "metadata": {},
   "outputs": [
    {
     "data": {
      "text/plain": [
       "<Axes: >"
      ]
     },
     "execution_count": 3,
     "metadata": {},
     "output_type": "execute_result"
    },
    {
     "data": {
      "image/png": "[encoded data removed]",
      "text/plain": [
       "<Figure size 640x480 with 1 Axes>"
      ]
     },
     "metadata": {},
     "output_type": "display_data"
    }
   ],
   "source": [
    "import pandas as pd\n",
    "import numpy as np\n",
    "import seaborn as sns\n",
    "import matplotlib.pyplot as plt\n",
    "\n",
    "ks = sns.load_dataset(\"titanic\")\n",
    "# ks['age'].hist()\n",
    "sns.boxplot(ks['age'])"
   ]
  },
  {
   "cell_type": "code",
   "execution_count": 4,
   "id": "6d565d01",
   "metadata": {},
   "outputs": [
    {
     "name": "stdout",
     "output_type": "stream",
     "text": [
      "stat=nan, p=1.000\n",
      "probably gaussian\n"
     ]
    }
   ],
   "source": [
    "from scipy.stats import shapiro\n",
    "stat,p = shapiro(ks['age'])\n",
    "print('stat=%.3f, p=%.3f' %(stat,p))\n",
    "# print(\"statistics=\",stat)\n",
    "# print(\"p=\",p)\n",
    "if p>0.05:\n",
    "    print(\"probably gaussian\")\n",
    "else:\n",
    "    print(\"probably not gaussian\")"
   ]
  },
  {
   "cell_type": "markdown",
   "id": "a1330d79",
   "metadata": {},
   "source": [
    "#### Normality test by doing dropna"
   ]
  },
  {
   "cell_type": "code",
   "execution_count": 11,
   "id": "985ae78d",
   "metadata": {},
   "outputs": [
    {
     "name": "stdout",
     "output_type": "stream",
     "text": [
      "stat=0.991, p=0.284\n",
      "probably gaussian\n"
     ]
    }
   ],
   "source": [
    "from scipy.stats import shapiro\n",
    "ks = ks.dropna()\n",
    "stat,p = shapiro(ks['age'])\n",
    "print('stat=%.3f, p=%.3f' %(stat,p))\n",
    "# print(\"statistics=\",stat)\n",
    "# print(\"p=\",p)\n",
    "if p>0.05:\n",
    "    print(\"probably gaussian\")\n",
    "else:\n",
    "    print(\"probably not gaussian\")"
   ]
  },
  {
   "cell_type": "code",
   "execution_count": null,
   "id": "02f64f6b",
   "metadata": {},
   "outputs": [],
   "source": [
    "# from scipy.stats import shapiro\n",
    "# stat,p = shapiro(ks['age'])\n",
    "# sns.boxplot(ks['age'])\n",
    "# # print('stat=%.3f, p=%.3f' %(stat,p))\n",
    "# # # print(\"statistics=\",stat)\n",
    "# # # print(\"p=\",p)\n",
    "# # if p>0.05:\n",
    "# #     print(\"probably gaussian\")\n",
    "# # else:\n",
    "# #     print(\"probably not gaussian\")"
   ]
  },
  {
   "cell_type": "markdown",
   "id": "61ddd4b0",
   "metadata": {},
   "source": [
    "# 2- Correlation Test"
   ]
  },
  {
   "cell_type": "markdown",
   "id": "dff1b2b9",
   "metadata": {},
   "source": [
    "#### 1- Pearson's Correlation Coefficient"
   ]
  },
  {
   "cell_type": "markdown",
   "id": "49f38230",
   "metadata": {},
   "source": [
    "Text whether the two samples have a linear relationship.\n",
    "\n",
    "Assumptions:\n",
    "    \n",
    "    1. Observation in each sample are independent and identically distributed\n",
    "    \n",
    "    2. Observation in each sample are normally distributed\n",
    "    \n",
    "    3. Observation in each sample have the same variance\n",
    "    \n",
    "    4. interpretation\n",
    "    \n",
    "    * H0: Two samples are independent \n",
    "    \n",
    "    * H1: there is dependency in the samples\n",
    "    "
   ]
  },
  {
   "cell_type": "code",
   "execution_count": 12,
   "id": "a2509240",
   "metadata": {},
   "outputs": [
    {
     "name": "stdout",
     "output_type": "stream",
     "text": [
      "stat=0.688, p=0.028\n",
      "probably not gaussian\n"
     ]
    }
   ],
   "source": [
    "# Example of the pearson's correlation Test\n",
    "\n",
    "\n",
    "from scipy.stats import pearsonr\n",
    "data1 = [0.873,2.817,0.121,-0.945,-0.005,-1.436,0.360,-1.478,-1.637,-1.869]\n",
    "data2 = [0.353,3.517,0.125,-7.545,-0.555,-1.536,3.350,-1.578,-3.537,-1.579]\n",
    "stat,p = pearsonr(data1,data2)\n",
    "print('stat=%.3f, p=%.3f' %(stat,p))\n",
    "# print(\"statistics=\",stat)\n",
    "# print(\"p=\",p)\n",
    "if p>0.05:\n",
    "    print(\"probably gaussian\")\n",
    "else:\n",
    "    print(\"probably not gaussian\")"
   ]
  },
  {
   "cell_type": "markdown",
   "id": "3f4071bc",
   "metadata": {},
   "source": [
    "#### 2- Spearman's Rank Correlation"
   ]
  },
  {
   "cell_type": "markdown",
   "id": "d130c3dc",
   "metadata": {},
   "source": [
    "Test Whether two samples have monotonic relationship\n",
    " \n",
    "<b>Assumptions<b>"
   ]
  },
  {
   "cell_type": "markdown",
   "id": "588617a0",
   "metadata": {},
   "source": [
    "1- Observation in each samples are independent and indentically distributed (iid).\n",
    "\n",
    "2- Observation in each samples can be ranked.\n",
    "\n",
    "3- interpretation\n",
    "\n",
    " * H0: Two samples are independent \n",
    "    \n",
    " * H1: there is dependency between the samples\n",
    "    "
   ]
  },
  {
   "cell_type": "code",
   "execution_count": null,
   "id": "01c32a94",
   "metadata": {},
   "outputs": [],
   "source": [
    "# Example of the Spearman's Rank correlation Test\n",
    "\n",
    "from scipy.stats import spearmanr\n",
    "data1 = [0.873,2.817,0.121,-0.945,-0.005,-1.436,0.360,-1.478,-1.637,-1.869]\n",
    "data2 = [0.353,3.517,0.125,-7.545,-0.555,-1.536,3.350,-1.578,-3.537,-1.579]\n",
    "stat,p = spearmanr(data1,data2)\n",
    "print('stat=%.3f, p=%.3f' %(stat,p))\n",
    "# print(\"statistics=\",stat)\n",
    "# print(\"p=\",p)\n",
    "if p>0.05:\n",
    "    print(\"probably gaussian\")\n",
    "else:\n",
    "    print(\"probably not gaussian\")"
   ]
  },
  {
   "cell_type": "markdown",
   "id": "5e2cd8c2",
   "metadata": {},
   "source": [
    "# 3- Chi-Squard Test"
   ]
  },
  {
   "cell_type": "markdown",
   "id": "4ffde3d3",
   "metadata": {},
   "source": [
    "test whether two categorical variables are independent or related.\n",
    "\n",
    "<B> Assumption <b>"
   ]
  },
  {
   "cell_type": "markdown",
   "id": "56e1a19d",
   "metadata": {},
   "source": [
    "Observations used in the calculation of the contingency table are independent. 25 or more examples in each cell of the \n",
    "contingency table. Interpretation\n",
    "\n",
    "H0: Two samples are independent\n",
    "\n",
    "H1: there is dependency between the samples"
   ]
  },
  {
   "cell_type": "code",
   "execution_count": 18,
   "id": "dc2e047a",
   "metadata": {},
   "outputs": [
    {
     "name": "stdout",
     "output_type": "stream",
     "text": [
      "stat=0.272, p=0.873\n",
      "probably gaussian\n"
     ]
    }
   ],
   "source": [
    "# Example of Chi-Squard Test\n",
    "\n",
    "from scipy.stats import chi2_contingency\n",
    "table = [[10,20,30],[6,9,17]]\n",
    "stat,p,dof,expected = chi2_contingency(table)\n",
    "print('stat=%.3f, p=%.3f' %(stat,p))\n",
    "# print(\"statistics=\",stat)\n",
    "# print(\"p=\",p)\n",
    "if p>0.05:\n",
    "    print(\"probably gaussian\")\n",
    "else:\n",
    "    print(\"probably not gaussian\")"
   ]
  },
  {
   "cell_type": "markdown",
   "id": "ad956d1b",
   "metadata": {},
   "source": [
    "# 3- Parametric Statistical Hypothesis Test"
   ]
  },
  {
   "cell_type": "markdown",
   "id": "f20a0909",
   "metadata": {},
   "source": [
    "#### 1-Student's T Test"
   ]
  },
  {
   "cell_type": "markdown",
   "id": "11a8e0ab",
   "metadata": {},
   "source": [
    "Tests whether the means of two independent samples are significantly different.\n",
    "\n",
    "<b>Assumption<b>\n",
    " \n",
    "1- Observation in each samples are independent and identically distributed (iid).\n",
    "\n",
    "2- Observation in each samples are normally distributed.\n",
    "\n",
    "3- Observation in each samples have same variance.\n",
    "\n",
    "H0: The means of the samples are equal\n",
    "    \n",
    "H1: The means of the samples are unequal\n"
   ]
  },
  {
   "cell_type": "code",
   "execution_count": 19,
   "id": "ee53d765",
   "metadata": {},
   "outputs": [
    {
     "name": "stdout",
     "output_type": "stream",
     "text": [
      "stat=0.519, p=0.610\n",
      "probably gaussian\n"
     ]
    }
   ],
   "source": [
    "# Example of the Parametric Statistical Hypothesis Test\n",
    "\n",
    "from scipy.stats import ttest_ind\n",
    "data1 = [0.873,2.817,0.121,-0.945,-0.005,-1.436,0.360,-1.478,-1.637,-1.869]\n",
    "data2 = [0.353,3.517,0.125,-7.545,-0.555,-1.536,3.350,-1.578,-3.537,-1.579]\n",
    "stat,p = ttest_ind(data1,data2)\n",
    "print('stat=%.3f, p=%.3f' %(stat,p))\n",
    "# print(\"statistics=\",stat)\n",
    "# print(\"p=\",p)\n",
    "if p>0.05:\n",
    "    print(\"probably gaussian\")\n",
    "else:\n",
    "    print(\"probably not gaussian\")"
   ]
  },
  {
   "cell_type": "markdown",
   "id": "a499eecf",
   "metadata": {},
   "source": [
    "#### 2- Paired Student's T Test"
   ]
  },
  {
   "cell_type": "markdown",
   "id": "aa777040",
   "metadata": {},
   "source": [
    "Tests whether the means of two paired samples are significantly different.\n",
    "\n",
    "1- observation in each samples are independent and identically distributed (iid).\n",
    "\n",
    "2- observation in each sample is normally distributed.\n",
    "\n",
    "3- observation in each sample have the same variance.\n",
    "\n",
    "4- observation across each sample is paired\n",
    "\n",
    "5- interpretation\n",
    "\n",
    "<b> Assumptions<b>\n",
    "\n",
    "* H0: The means of the samples are equal\n",
    "* H1: The means of the samples are unequal"
   ]
  },
  {
   "cell_type": "code",
   "execution_count": 1,
   "id": "4e6f6d70",
   "metadata": {},
   "outputs": [
    {
     "name": "stdout",
     "output_type": "stream",
     "text": [
      "stat=0.747, p=0.474\n",
      "probably gaussian\n"
     ]
    }
   ],
   "source": [
    "# Example of Paired Student's T Test\n",
    "\n",
    "from scipy.stats import ttest_rel\n",
    "data1 = [0.873,2.817,0.121,-0.945,-0.005,-1.436,0.360,-1.478,-1.637,-1.869]\n",
    "data2 = [0.353,3.517,0.125,-7.545,-0.555,-1.536,3.350,-1.578,-3.537,-1.579]\n",
    "stat,p = ttest_rel(data1,data2)\n",
    "print('stat=%.3f, p=%.3f' %(stat,p))\n",
    "# print(\"statistics=\",stat)\n",
    "# print(\"p=\",p)\n",
    "if p>0.05:\n",
    "    print(\"probably gaussian\")\n",
    "else:\n",
    "    print(\"probably not gaussian\")"
   ]
  },
  {
   "cell_type": "markdown",
   "id": "5217e87b",
   "metadata": {},
   "source": [
    "# 4- Analysis of Variance Test (ANOVA)"
   ]
  },
  {
   "cell_type": "markdown",
   "id": "00a38d3e",
   "metadata": {},
   "source": [
    "test whether the means of two or more independent samples are significantly different\n",
    "\n",
    "<b>Assumption<b>\n",
    "\n",
    "1- Observation in each samples are independent and identically distributed (iid).\n",
    "\n",
    "2- observation in each samples are normally distributed\n",
    "\n",
    "3- observation in each samples have equal variance\n",
    "\n",
    "4- interpretation\n",
    "\n",
    "H0: Means of the samples are equal\n",
    "    \n",
    "H1: one or more of the means of the samples are unequal"
   ]
  },
  {
   "cell_type": "code",
   "execution_count": 2,
   "id": "1ee919ae",
   "metadata": {},
   "outputs": [
    {
     "name": "stdout",
     "output_type": "stream",
     "text": [
      "stat=0.153, p=0.859\n",
      "probably gaussian\n"
     ]
    }
   ],
   "source": [
    "# Example of Analysis of Variance Test (ANOVA) Test\n",
    "\n",
    "from scipy.stats import f_oneway\n",
    "data1 = [0.873,2.817,0.121,-0.945,-0.005,-1.436,0.360,-1.478,-1.637,-1.869]\n",
    "data2 = [0.353,3.517,0.125,-7.545,-0.555,-1.536,3.350,-1.578,-3.537,-1.579]\n",
    "data3 = [0.313,3.417,0.145,-7.945,-0.755,-1.136,3.350,-1.578,-3.537,-1.579]\n",
    "stat,p = f_oneway(data1,data2,data3)\n",
    "print('stat=%.3f, p=%.3f' %(stat,p))\n",
    "# print(\"statistics=\",stat)\n",
    "# print(\"p=\",p)\n",
    "if p>0.05:\n",
    "    print(\"probably gaussian\")\n",
    "else:\n",
    "    print(\"probably not gaussian\")"
   ]
  },
  {
   "cell_type": "code",
   "execution_count": null,
   "id": "b8762a87",
   "metadata": {},
   "outputs": [],
   "source": []
  }
 ],
 "metadata": {
  "kernelspec": {
   "display_name": "Python 3 (ipykernel)",
   "language": "python",
   "name": "python3"
  },
  "language_info": {
   "codemirror_mode": {
    "name": "ipython",
    "version": 3
   },
   "file_extension": ".py",
   "mimetype": "text/x-python",
   "name": "python",
   "nbconvert_exporter": "python",
   "pygments_lexer": "ipython3",
   "version": "3.11.5"
  }
 },
 "nbformat": 4,
 "nbformat_minor": 5
}
